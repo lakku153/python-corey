{
 "cells": [
  {
   "cell_type": "code",
   "execution_count": 6,
   "id": "d88d755e-1d2b-4b01-b6ba-36442bf0fea2",
   "metadata": {},
   "outputs": [
    {
     "name": "stdout",
     "output_type": "stream",
     "text": [
      "child method\n",
      "b\n",
      "c\n",
      "b\n"
     ]
    }
   ],
   "source": [
    "class a:\n",
    "    def A(self):\n",
    "        print(\"a\")\n",
    "class b:\n",
    "    def A(self):\n",
    "        print(\"b\")\n",
    "class c(b,a):\n",
    "    def A(self):\n",
    "        print(\"c\")\n",
    "        super().A()\n",
    "    def B(self):\n",
    "        print(\"child method\")\n",
    "        super().A()\n",
    "\n",
    "obj=c()\n",
    "obj.B()\n",
    "obj.A()"
   ]
  },
  {
   "cell_type": "code",
   "execution_count": 7,
   "id": "5724d069-dd62-4330-9d02-0871cd36f0da",
   "metadata": {},
   "outputs": [],
   "source": [
    "import os"
   ]
  },
  {
   "cell_type": "code",
   "execution_count": 8,
   "id": "b67649b9-1a1f-4855-a948-2746b4ec00e7",
   "metadata": {},
   "outputs": [
    {
     "data": {
      "text/plain": [
       "'D:\\\\code_workspace\\\\Python Corey'"
      ]
     },
     "execution_count": 8,
     "metadata": {},
     "output_type": "execute_result"
    }
   ],
   "source": [
    "os.getcwd()"
   ]
  },
  {
   "cell_type": "code",
   "execution_count": 12,
   "id": "740d3e21-7363-458c-9a7d-9851226ca1b6",
   "metadata": {},
   "outputs": [
    {
     "data": {
      "text/plain": [
       "'D:\\\\code_workspace\\\\Python Corey\\\\ok\\\\ji'"
      ]
     },
     "execution_count": 12,
     "metadata": {},
     "output_type": "execute_result"
    }
   ],
   "source": [
    "os.path.join(os.getcwd(),'ok','ji')"
   ]
  },
  {
   "cell_type": "code",
   "execution_count": null,
   "id": "4d575df5-1120-4dac-b5c0-bece99e71d34",
   "metadata": {},
   "outputs": [],
   "source": []
  }
 ],
 "metadata": {
  "kernelspec": {
   "display_name": "Python 3 (ipykernel)",
   "language": "python",
   "name": "python3"
  },
  "language_info": {
   "codemirror_mode": {
    "name": "ipython",
    "version": 3
   },
   "file_extension": ".py",
   "mimetype": "text/x-python",
   "name": "python",
   "nbconvert_exporter": "python",
   "pygments_lexer": "ipython3",
   "version": "3.12.4"
  }
 },
 "nbformat": 4,
 "nbformat_minor": 5
}
