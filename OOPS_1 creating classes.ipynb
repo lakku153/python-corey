{
 "cells": [
  {
   "cell_type": "code",
   "execution_count": 1,
   "id": "2c173b7e",
   "metadata": {},
   "outputs": [
    {
     "name": "stdout",
     "output_type": "stream",
     "text": [
      "<__main__.employee object at 0x000001BC42D7DC60>\n",
      "<__main__.employee object at 0x000001BC42D7F1C0>\n",
      "Lokeshsaini@company.com\n",
      "hellouser@company.com\n"
     ]
    }
   ],
   "source": [
    "class employee:\n",
    "    pass\n",
    "\n",
    "emp1=employee()\n",
    "emp2=employee()\n",
    "print(emp1)\n",
    "print(emp2)\n",
    "\n",
    "emp1.first='Lokesh'\n",
    "emp1.last='saini'\n",
    "emp1.mail='Lokeshsaini@company.com'\n",
    "emp1.pay=50000\n",
    "\n",
    "emp2.first='hello'\n",
    "emp2.last='user'\n",
    "emp2.mail='hellouser@company.com'\n",
    "emp2.pay=60000\n",
    "\n",
    "print(emp1.mail)\n",
    "print(emp2.mail)"
   ]
  },
  {
   "cell_type": "code",
   "execution_count": 2,
   "id": "e1332c26",
   "metadata": {},
   "outputs": [
    {
     "name": "stdout",
     "output_type": "stream",
     "text": [
      "lokeshsaini@company.com\n",
      "hellouser@company.com\n",
      "lokesh saini\n"
     ]
    }
   ],
   "source": [
    "class employee:\n",
    "    def __init__(self,first,last,pay):\n",
    "        self.first=first\n",
    "        self.last=last\n",
    "        self.mail=first+last+'@company.com'\n",
    "        self.pay=pay\n",
    "        \n",
    "emp1=employee('lokesh','saini',50000)\n",
    "emp2=employee('hello','user',60000)\n",
    "\n",
    "print(emp1.mail)\n",
    "print(emp2.mail)\n",
    "\n",
    "print('{} {}'.format(emp1.first,emp1.last))"
   ]
  },
  {
   "cell_type": "code",
   "execution_count": 3,
   "id": "9fea05fc",
   "metadata": {},
   "outputs": [
    {
     "name": "stdout",
     "output_type": "stream",
     "text": [
      "lokeshsaini@company.com\n",
      "hellouser@company.com\n",
      "hello user\n"
     ]
    }
   ],
   "source": [
    "class employee:\n",
    "    def __init__(self,first,last,pay):\n",
    "        self.first=first\n",
    "        self.last=last\n",
    "        self.mail=first+last+'@company.com'\n",
    "        self.pay=pay\n",
    "    def fullname(self):\n",
    "        return '{} {}'.format(self.first,self.last)\n",
    "        \n",
    "emp1=employee('lokesh','saini',50000)\n",
    "emp2=employee('hello','user',60000)\n",
    "\n",
    "print(emp1.mail)\n",
    "print(emp2.mail)\n",
    "\n",
    "print(emp2.fullname())"
   ]
  },
  {
   "cell_type": "code",
   "execution_count": 4,
   "id": "55988514",
   "metadata": {},
   "outputs": [
    {
     "name": "stdout",
     "output_type": "stream",
     "text": [
      "lokeshsaini@company.com\n",
      "hellouser@company.com\n"
     ]
    }
   ],
   "source": [
    "class employee:\n",
    "    def __init__(self,first,last,pay):\n",
    "        self.first=first\n",
    "        self.last=last\n",
    "        self.mail=first+last+'@company.com'\n",
    "        self.pay=pay\n",
    "    def fullname():\n",
    "        return '{} {}'.format(self.first,self.last)\n",
    "        \n",
    "emp1=employee('lokesh','saini',50000)\n",
    "emp2=employee('hello','user',60000)\n",
    "\n",
    "print(emp1.mail)\n",
    "print(emp2.mail)\n",
    "\n",
    "# print(emp2.fullname())"
   ]
  },
  {
   "cell_type": "code",
   "execution_count": 5,
   "id": "e521a56b",
   "metadata": {},
   "outputs": [
    {
     "name": "stdout",
     "output_type": "stream",
     "text": [
      "lokeshsaini@company.com\n",
      "hellouser@company.com\n"
     ]
    },
    {
     "ename": "TypeError",
     "evalue": "employee.fullname() takes 0 positional arguments but 1 was given",
     "output_type": "error",
     "traceback": [
      "\u001b[1;31m---------------------------------------------------------------------------\u001b[0m",
      "\u001b[1;31mTypeError\u001b[0m                                 Traceback (most recent call last)",
      "Cell \u001b[1;32mIn[5], line 16\u001b[0m\n\u001b[0;32m     13\u001b[0m \u001b[38;5;28mprint\u001b[39m(emp1\u001b[38;5;241m.\u001b[39mmail)\n\u001b[0;32m     14\u001b[0m \u001b[38;5;28mprint\u001b[39m(emp2\u001b[38;5;241m.\u001b[39mmail)\n\u001b[1;32m---> 16\u001b[0m \u001b[38;5;28mprint\u001b[39m(\u001b[43memp2\u001b[49m\u001b[38;5;241;43m.\u001b[39;49m\u001b[43mfullname\u001b[49m\u001b[43m(\u001b[49m\u001b[43m)\u001b[49m)\n",
      "\u001b[1;31mTypeError\u001b[0m: employee.fullname() takes 0 positional arguments but 1 was given"
     ]
    }
   ],
   "source": [
    "class employee:\n",
    "    def __init__(self,first,last,pay):\n",
    "        self.first=first\n",
    "        self.last=last\n",
    "        self.mail=first+last+'@company.com'\n",
    "        self.pay=pay\n",
    "    def fullname():\n",
    "        return '{} {}'.format(self.first,self.last)\n",
    "        \n",
    "emp1=employee('lokesh','saini',50000)\n",
    "emp2=employee('hello','user',60000)\n",
    "\n",
    "print(emp1.mail)\n",
    "print(emp2.mail)\n",
    "\n",
    "print(emp2.fullname())"
   ]
  },
  {
   "cell_type": "code",
   "execution_count": 6,
   "id": "564e28f5",
   "metadata": {},
   "outputs": [
    {
     "name": "stdout",
     "output_type": "stream",
     "text": [
      "lokesh saini\n",
      "lokesh saini\n"
     ]
    }
   ],
   "source": [
    "class employee:\n",
    "    def __init__(self,first,last,pay):\n",
    "        self.first=first\n",
    "        self.last=last\n",
    "        self.mail=first+last+'@company.com'\n",
    "        self.pay=pay\n",
    "    def fullname(self):\n",
    "        return '{} {}'.format(self.first,self.last)\n",
    "        \n",
    "emp1=employee('lokesh','saini',50000)\n",
    "emp2=employee('hello','user',60000)\n",
    "\n",
    "# print(emp1.mail)\n",
    "# print(emp2.mail)\n",
    "\n",
    "print(emp1.fullname())\n",
    "print(employee.fullname(emp1))"
   ]
  },
  {
   "cell_type": "code",
   "execution_count": null,
   "id": "9f98617d",
   "metadata": {},
   "outputs": [],
   "source": []
  }
 ],
 "metadata": {
  "kernelspec": {
   "display_name": "Python 3 (ipykernel)",
   "language": "python",
   "name": "python3"
  },
  "language_info": {
   "codemirror_mode": {
    "name": "ipython",
    "version": 3
   },
   "file_extension": ".py",
   "mimetype": "text/x-python",
   "name": "python",
   "nbconvert_exporter": "python",
   "pygments_lexer": "ipython3",
   "version": "3.10.4"
  }
 },
 "nbformat": 4,
 "nbformat_minor": 5
}
