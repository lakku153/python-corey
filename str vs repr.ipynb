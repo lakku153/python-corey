{
 "cells": [
  {
   "cell_type": "markdown",
   "id": "5ad5d6b8",
   "metadata": {},
   "source": [
    "# The goal of __str__ is to be readable\n",
    "# The goal of __repr__ is to be unambiguous"
   ]
  }
 ],
 "metadata": {
  "kernelspec": {
   "display_name": "Python 3 (ipykernel)",
   "language": "python",
   "name": "python3"
  },
  "language_info": {
   "codemirror_mode": {
    "name": "ipython",
    "version": 3
   },
   "file_extension": ".py",
   "mimetype": "text/x-python",
   "name": "python",
   "nbconvert_exporter": "python",
   "pygments_lexer": "ipython3",
   "version": "3.13.0"
  }
 },
 "nbformat": 4,
 "nbformat_minor": 5
}
