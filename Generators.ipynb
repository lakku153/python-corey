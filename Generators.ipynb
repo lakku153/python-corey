{
 "cells": [
  {
   "cell_type": "code",
   "execution_count": 1,
   "id": "82a939ba-005a-43f1-8a64-ec98f24d08b6",
   "metadata": {},
   "outputs": [
    {
     "name": "stdout",
     "output_type": "stream",
     "text": [
      "<generator object square at 0x000001A0843281E0>\n"
     ]
    }
   ],
   "source": [
    "def square(nums):\n",
    "    for i in nums:\n",
    "        yield i*i\n",
    "\n",
    "my_ans=square([1,2,3,4,5])\n",
    "print(my_ans)"
   ]
  },
  {
   "cell_type": "code",
   "execution_count": 2,
   "id": "8eaacdfc-0475-436e-9c88-c1e60f76801b",
   "metadata": {},
   "outputs": [
    {
     "name": "stdout",
     "output_type": "stream",
     "text": [
      "1\n",
      "4\n",
      "9\n",
      "16\n",
      "25\n"
     ]
    }
   ],
   "source": [
    "print(next(my_ans))\n",
    "print(next(my_ans))\n",
    "print(next(my_ans))\n",
    "print(next(my_ans))\n",
    "print(next(my_ans))"
   ]
  },
  {
   "cell_type": "code",
   "execution_count": 3,
   "id": "3189c51e-c084-4515-aad9-a8fb782c5c0f",
   "metadata": {},
   "outputs": [],
   "source": [
    "my_ans=[i*i for i in [1,2,3,4,5]]"
   ]
  },
  {
   "cell_type": "code",
   "execution_count": 4,
   "id": "8b109202-80c5-415a-bc89-1b5f57cf3660",
   "metadata": {},
   "outputs": [
    {
     "name": "stdout",
     "output_type": "stream",
     "text": [
      "[1, 4, 9, 16, 25]\n"
     ]
    }
   ],
   "source": [
    "print(my_ans)"
   ]
  },
  {
   "cell_type": "code",
   "execution_count": 5,
   "id": "f50349ec-3cd2-456a-b985-bed07a90f2f9",
   "metadata": {},
   "outputs": [
    {
     "name": "stdout",
     "output_type": "stream",
     "text": [
      "<generator object <genexpr> at 0x000001A0842CF6B0>\n"
     ]
    }
   ],
   "source": [
    "my_ans=(i*i for i in [1,2,3,4,5])\n",
    "print(my_ans)"
   ]
  },
  {
   "cell_type": "code",
   "execution_count": 12,
   "id": "e06bdc33-8365-4dd5-9ce5-891081871b74",
   "metadata": {},
   "outputs": [
    {
     "name": "stdout",
     "output_type": "stream",
     "text": [
      "1\n",
      "4\n",
      "9\n",
      "16\n",
      "25\n"
     ]
    }
   ],
   "source": [
    "for num in my_ans:\n",
    "    print(num)"
   ]
  },
  {
   "cell_type": "code",
   "execution_count": 15,
   "id": "6c071351-7308-4378-bb00-85e861899790",
   "metadata": {},
   "outputs": [
    {
     "name": "stdout",
     "output_type": "stream",
     "text": [
      "[1, 4, 9, 16, 25]\n"
     ]
    }
   ],
   "source": [
    "print(list(my_ans))"
   ]
  },
  {
   "cell_type": "code",
   "execution_count": null,
   "id": "1e77f7ec-7844-4147-a3c2-39ebcaa5d04b",
   "metadata": {},
   "outputs": [],
   "source": []
  }
 ],
 "metadata": {
  "kernelspec": {
   "display_name": "Python 3 (ipykernel)",
   "language": "python",
   "name": "python3"
  },
  "language_info": {
   "codemirror_mode": {
    "name": "ipython",
    "version": 3
   },
   "file_extension": ".py",
   "mimetype": "text/x-python",
   "name": "python",
   "nbconvert_exporter": "python",
   "pygments_lexer": "ipython3",
   "version": "3.13.0"
  }
 },
 "nbformat": 4,
 "nbformat_minor": 5
}
