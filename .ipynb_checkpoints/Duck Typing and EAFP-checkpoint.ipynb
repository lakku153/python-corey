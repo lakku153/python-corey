{
 "cells": [
  {
   "cell_type": "code",
   "execution_count": 3,
   "id": "204d90c2-faee-46ca-9658-5c92fa861e50",
   "metadata": {},
   "outputs": [
    {
     "name": "stdout",
     "output_type": "stream",
     "text": [
      "Quack, quack\n",
      "Flap, Flap!\n",
      "This has to be a duck!\n"
     ]
    }
   ],
   "source": [
    "# Duck Typing and Easier to ask forgiveness than permission (EAFP)\n",
    "\n",
    "\n",
    "class Duck:\n",
    "\n",
    "    def quack(self):\n",
    "        print('Quack, quack')\n",
    "\n",
    "    def fly(self):\n",
    "        print('Flap, Flap!')\n",
    "\n",
    "\n",
    "class Person:\n",
    "    pass\n",
    "    # def quack(self):\n",
    "    #     print(\"I'm Quacking Like a Duck!\")\n",
    "\n",
    "    # def fly(self):\n",
    "    #     print(\"I'm Flapping my Arms!\")\n",
    "\n",
    "\n",
    "def quack_and_fly(thing):\n",
    "    # non duck typed(non pythonic)\n",
    "    if isinstance(thing,Duck):\n",
    "        thing.quack()\n",
    "        thing.fly()\n",
    "    else:\n",
    "        print(\"This has to be a duck!\")\n",
    "  \n",
    "\n",
    "d = Duck()\n",
    "quack_and_fly(d)\n",
    "\n",
    "p=Person()\n",
    "quack_and_fly(p)\n"
   ]
  },
  {
   "cell_type": "markdown",
   "id": "33a9d673-0bba-431d-a07d-3f3d0da1af5c",
   "metadata": {},
   "source": [
    "#### Duck typing in Python is a concept related to dynamic typing, where the type or class of an object is determined by its behavior (methods and properties) rather than its explicit inheritance from a particular class. The term comes from the phrase \"If it looks like a duck, swims like a duck, and quacks like a duck, then it probably is a duck.\""
   ]
  },
  {
   "cell_type": "code",
   "execution_count": 4,
   "id": "3989c426-b1c1-406a-91b8-21a839924cd0",
   "metadata": {},
   "outputs": [
    {
     "name": "stdout",
     "output_type": "stream",
     "text": [
      "Quack, quack\n",
      "Flap, Flap!\n",
      "\n",
      "I'm Quacking Like a Duck!\n",
      "I'm Flapping my Arms!\n",
      "\n"
     ]
    }
   ],
   "source": [
    "\n",
    "class Duck:\n",
    "\n",
    "    def quack(self):\n",
    "        print('Quack, quack')\n",
    "\n",
    "    def fly(self):\n",
    "        print('Flap, Flap!')\n",
    "\n",
    "\n",
    "class Person:\n",
    "    def quack(self):\n",
    "        print(\"I'm Quacking Like a Duck!\")\n",
    "\n",
    "    def fly(self):\n",
    "        print(\"I'm Flapping my Arms!\")\n",
    "\n",
    "\n",
    "def quack_and_fly(thing):\n",
    "    thing.quack()\n",
    "    thing.fly()\n",
    "    print()\n",
    "     \n",
    "  \n",
    "\n",
    "d = Duck()\n",
    "quack_and_fly(d)\n",
    "\n",
    "p=Person()\n",
    "quack_and_fly(p)\n"
   ]
  },
  {
   "cell_type": "code",
   "execution_count": 6,
   "id": "428df57a-9700-4bbd-b2dc-21ad54da3723",
   "metadata": {},
   "outputs": [
    {
     "name": "stdout",
     "output_type": "stream",
     "text": [
      "Quack, quack\n",
      "Flap, Flap!\n",
      "\n",
      "I'm Quacking Like a Duck!\n",
      "I'm Flapping my Arms!\n",
      "\n"
     ]
    }
   ],
   "source": [
    "\n",
    "class Duck:\n",
    "\n",
    "    def quack(self):\n",
    "        print('Quack, quack')\n",
    "\n",
    "    def fly(self):\n",
    "        print('Flap, Flap!')\n",
    "\n",
    "\n",
    "class Person:\n",
    "    def quack(self):\n",
    "        print(\"I'm Quacking Like a Duck!\")\n",
    "\n",
    "    def fly(self):\n",
    "        print(\"I'm Flapping my Arms!\")\n",
    "\n",
    "\n",
    "def quack_and_fly(thing):\n",
    "   # LBYL (Non-Pythonic)\n",
    "    if hasattr(thing, 'quack'):\n",
    "        if callable(thing.quack):\n",
    "            thing.quack()\n",
    "\n",
    "    if hasattr(thing, 'fly'):\n",
    "        if callable(thing.fly):\n",
    "            thing.fly()\n",
    "    print() \n",
    "  \n",
    "\n",
    "d = Duck()\n",
    "quack_and_fly(d)\n",
    "\n",
    "p=Person()\n",
    "quack_and_fly(p)\n"
   ]
  },
  {
   "cell_type": "code",
   "execution_count": 10,
   "id": "c80768cf-6998-4ae0-8051-98e62b280b19",
   "metadata": {},
   "outputs": [
    {
     "name": "stdout",
     "output_type": "stream",
     "text": [
      "Quack, quack\n",
      "Flap, Flap!\n",
      "\n",
      "I'm Quacking Like a Duck!\n",
      "I'm Flapping my Arms!\n",
      "\n"
     ]
    }
   ],
   "source": [
    "class Duck:\n",
    "\n",
    "    def quack(self):\n",
    "        print('Quack, quack')\n",
    "\n",
    "    def fly(self):\n",
    "        print('Flap, Flap!')\n",
    "\n",
    "\n",
    "class Person:\n",
    "    def quack(self):\n",
    "        print(\"I'm Quacking Like a Duck!\")\n",
    "\n",
    "    def fly(self):\n",
    "        print(\"I'm Flapping my Arms!\")\n",
    "\n",
    "\n",
    "def quack_and_fly(thing):\n",
    "    try:\n",
    "        thing.quack()\n",
    "        thing.fly()\n",
    "       \n",
    "    except AttributeError as e:\n",
    "        print(e)\n",
    "    print() \n",
    "  \n",
    "\n",
    "d = Duck()\n",
    "quack_and_fly(d)\n",
    "\n",
    "p=Person()\n",
    "quack_and_fly(p)\n"
   ]
  },
  {
   "cell_type": "markdown",
   "id": "a10ee20c-430b-44b1-83f4-cccc7d435ed6",
   "metadata": {},
   "source": [
    "### \"EAFP\" stands for \"Easier to Ask for Forgiveness than Permission.\" It's a common Python programming principle and is a key aspect of Python’s dynamic typing and exception-handling philosophy.\n",
    "\n",
    "Explanation:\n",
    "EAFP is based on the idea that it’s better to try to perform an operation and catch exceptions if something goes wrong, rather than preemptively checking whether an operation will succeed. This approach aligns with Python’s preference for handling errors through exceptions rather than checking conditions before executing an operation."
   ]
  },
  {
   "cell_type": "code",
   "execution_count": 11,
   "id": "0271bba3-8707-46a0-bbc6-ebe35741c507",
   "metadata": {},
   "outputs": [
    {
     "name": "stdout",
     "output_type": "stream",
     "text": [
      "Quack, quack\n",
      "Flap, Flap!\n",
      "'Duck' object has no attribute 'bark'\n",
      "\n",
      "I'm Quacking Like a Duck!\n",
      "I'm Flapping my Arms!\n",
      "'Person' object has no attribute 'bark'\n",
      "\n"
     ]
    }
   ],
   "source": [
    "class Duck:\n",
    "\n",
    "    def quack(self):\n",
    "        print('Quack, quack')\n",
    "\n",
    "    def fly(self):\n",
    "        print('Flap, Flap!')\n",
    "\n",
    "\n",
    "class Person:\n",
    "    def quack(self):\n",
    "        print(\"I'm Quacking Like a Duck!\")\n",
    "\n",
    "    def fly(self):\n",
    "        print(\"I'm Flapping my Arms!\")\n",
    "\n",
    "\n",
    "def quack_and_fly(thing):\n",
    "    try:\n",
    "        thing.quack()\n",
    "        thing.fly()\n",
    "        thing.bark()\n",
    "    except AttributeError as e:\n",
    "        print(e)\n",
    "    print() \n",
    "  \n",
    "\n",
    "d = Duck()\n",
    "quack_and_fly(d)\n",
    "\n",
    "p=Person()\n",
    "quack_and_fly(p)\n"
   ]
  },
  {
   "cell_type": "code",
   "execution_count": null,
   "id": "df110ddb-1d80-4602-8dfa-b933f23c1a18",
   "metadata": {},
   "outputs": [],
   "source": []
  }
 ],
 "metadata": {
  "kernelspec": {
   "display_name": "Python 3 (ipykernel)",
   "language": "python",
   "name": "python3"
  },
  "language_info": {
   "codemirror_mode": {
    "name": "ipython",
    "version": 3
   },
   "file_extension": ".py",
   "mimetype": "text/x-python",
   "name": "python",
   "nbconvert_exporter": "python",
   "pygments_lexer": "ipython3",
   "version": "3.12.4"
  }
 },
 "nbformat": 4,
 "nbformat_minor": 5
}
