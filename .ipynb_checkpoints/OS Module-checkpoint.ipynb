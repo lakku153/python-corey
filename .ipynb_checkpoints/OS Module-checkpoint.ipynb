{
 "cells": [
  {
   "cell_type": "code",
   "execution_count": 1,
   "id": "ffff1789",
   "metadata": {},
   "outputs": [],
   "source": [
    "import os"
   ]
  },
  {
   "cell_type": "code",
   "execution_count": 2,
   "id": "02df1267",
   "metadata": {},
   "outputs": [
    {
     "data": {
      "text/plain": [
       "['DirEntry',\n",
       " 'F_OK',\n",
       " 'GenericAlias',\n",
       " 'Mapping',\n",
       " 'MutableMapping',\n",
       " 'O_APPEND',\n",
       " 'O_BINARY',\n",
       " 'O_CREAT',\n",
       " 'O_EXCL',\n",
       " 'O_NOINHERIT',\n",
       " 'O_RANDOM',\n",
       " 'O_RDONLY',\n",
       " 'O_RDWR',\n",
       " 'O_SEQUENTIAL',\n",
       " 'O_SHORT_LIVED',\n",
       " 'O_TEMPORARY',\n",
       " 'O_TEXT',\n",
       " 'O_TRUNC',\n",
       " 'O_WRONLY',\n",
       " 'P_DETACH',\n",
       " 'P_NOWAIT',\n",
       " 'P_NOWAITO',\n",
       " 'P_OVERLAY',\n",
       " 'P_WAIT',\n",
       " 'PathLike',\n",
       " 'R_OK',\n",
       " 'SEEK_CUR',\n",
       " 'SEEK_END',\n",
       " 'SEEK_SET',\n",
       " 'TMP_MAX',\n",
       " 'W_OK',\n",
       " 'X_OK',\n",
       " '_AddedDllDirectory',\n",
       " '_Environ',\n",
       " '__all__',\n",
       " '__builtins__',\n",
       " '__cached__',\n",
       " '__doc__',\n",
       " '__file__',\n",
       " '__loader__',\n",
       " '__name__',\n",
       " '__package__',\n",
       " '__spec__',\n",
       " '_check_methods',\n",
       " '_execvpe',\n",
       " '_exists',\n",
       " '_exit',\n",
       " '_fspath',\n",
       " '_get_exports_list',\n",
       " '_walk',\n",
       " '_wrap_close',\n",
       " 'abc',\n",
       " 'abort',\n",
       " 'access',\n",
       " 'add_dll_directory',\n",
       " 'altsep',\n",
       " 'chdir',\n",
       " 'chmod',\n",
       " 'close',\n",
       " 'closerange',\n",
       " 'cpu_count',\n",
       " 'curdir',\n",
       " 'defpath',\n",
       " 'device_encoding',\n",
       " 'devnull',\n",
       " 'dup',\n",
       " 'dup2',\n",
       " 'environ',\n",
       " 'error',\n",
       " 'execl',\n",
       " 'execle',\n",
       " 'execlp',\n",
       " 'execlpe',\n",
       " 'execv',\n",
       " 'execve',\n",
       " 'execvp',\n",
       " 'execvpe',\n",
       " 'extsep',\n",
       " 'fdopen',\n",
       " 'fsdecode',\n",
       " 'fsencode',\n",
       " 'fspath',\n",
       " 'fstat',\n",
       " 'fsync',\n",
       " 'ftruncate',\n",
       " 'get_exec_path',\n",
       " 'get_handle_inheritable',\n",
       " 'get_inheritable',\n",
       " 'get_terminal_size',\n",
       " 'getcwd',\n",
       " 'getcwdb',\n",
       " 'getenv',\n",
       " 'getlogin',\n",
       " 'getpid',\n",
       " 'getppid',\n",
       " 'isatty',\n",
       " 'kill',\n",
       " 'linesep',\n",
       " 'link',\n",
       " 'listdir',\n",
       " 'lseek',\n",
       " 'lstat',\n",
       " 'makedirs',\n",
       " 'mkdir',\n",
       " 'name',\n",
       " 'open',\n",
       " 'pardir',\n",
       " 'path',\n",
       " 'pathsep',\n",
       " 'pipe',\n",
       " 'popen',\n",
       " 'putenv',\n",
       " 'read',\n",
       " 'readlink',\n",
       " 'remove',\n",
       " 'removedirs',\n",
       " 'rename',\n",
       " 'renames',\n",
       " 'replace',\n",
       " 'rmdir',\n",
       " 'scandir',\n",
       " 'sep',\n",
       " 'set_handle_inheritable',\n",
       " 'set_inheritable',\n",
       " 'spawnl',\n",
       " 'spawnle',\n",
       " 'spawnv',\n",
       " 'spawnve',\n",
       " 'st',\n",
       " 'startfile',\n",
       " 'stat',\n",
       " 'stat_result',\n",
       " 'statvfs_result',\n",
       " 'strerror',\n",
       " 'supports_bytes_environ',\n",
       " 'supports_dir_fd',\n",
       " 'supports_effective_ids',\n",
       " 'supports_fd',\n",
       " 'supports_follow_symlinks',\n",
       " 'symlink',\n",
       " 'sys',\n",
       " 'system',\n",
       " 'terminal_size',\n",
       " 'times',\n",
       " 'times_result',\n",
       " 'truncate',\n",
       " 'umask',\n",
       " 'uname_result',\n",
       " 'unlink',\n",
       " 'unsetenv',\n",
       " 'urandom',\n",
       " 'utime',\n",
       " 'waitpid',\n",
       " 'waitstatus_to_exitcode',\n",
       " 'walk',\n",
       " 'write']"
      ]
     },
     "execution_count": 2,
     "metadata": {},
     "output_type": "execute_result"
    }
   ],
   "source": [
    "dir(os)"
   ]
  },
  {
   "cell_type": "code",
   "execution_count": 3,
   "id": "57f8ad45",
   "metadata": {},
   "outputs": [
    {
     "data": {
      "text/plain": [
       "'D:\\\\code_workspace\\\\Python Corey'"
      ]
     },
     "execution_count": 3,
     "metadata": {},
     "output_type": "execute_result"
    }
   ],
   "source": [
    "os.getcwd()"
   ]
  },
  {
   "cell_type": "code",
   "execution_count": 4,
   "id": "ffeab8e2",
   "metadata": {},
   "outputs": [],
   "source": [
    "os.chdir('C:/Users/Education/Desktop')"
   ]
  },
  {
   "cell_type": "code",
   "execution_count": 5,
   "id": "30a13b0f",
   "metadata": {},
   "outputs": [
    {
     "data": {
      "text/plain": [
       "'C:\\\\Users\\\\Education\\\\Desktop'"
      ]
     },
     "execution_count": 5,
     "metadata": {},
     "output_type": "execute_result"
    }
   ],
   "source": [
    "os.getcwd()"
   ]
  },
  {
   "cell_type": "code",
   "execution_count": 6,
   "id": "7667ebcc",
   "metadata": {},
   "outputs": [
    {
     "data": {
      "text/plain": [
       "['.ipynb_checkpoints',\n",
       " 'book_equations.pdf',\n",
       " 'Fundamentals-of-Data-Engineering-by-Joe-Reis-and-Matt-Housley_bibis.ir.pdf',\n",
       " 'Hands-On_Machine_Learning_with_Scikit-Learn-Keras-and-TensorFlow-2nd-Edition-Aurelien-Geron.pdf',\n",
       " 'hissab.txt',\n",
       " 'Lokesh kumar saini (1).pdf',\n",
       " 'Lokesh kumar saini.pdf',\n",
       " 'MySQL Workbench 8.0 CE.lnk',\n",
       " 'PW.lnk',\n",
       " 'triangles.pdf',\n",
       " 'Visual Studio Code.lnk']"
      ]
     },
     "execution_count": 6,
     "metadata": {},
     "output_type": "execute_result"
    }
   ],
   "source": [
    "os.listdir()"
   ]
  },
  {
   "cell_type": "code",
   "execution_count": 10,
   "id": "e23a5fe7",
   "metadata": {},
   "outputs": [],
   "source": [
    "# os.mkdir('osdemo/temp1')"
   ]
  },
  {
   "cell_type": "code",
   "execution_count": 11,
   "id": "0da54f58",
   "metadata": {},
   "outputs": [],
   "source": [
    "os.makedirs('osdemo/temp1')"
   ]
  },
  {
   "cell_type": "code",
   "execution_count": 8,
   "id": "e50c62d0",
   "metadata": {},
   "outputs": [
    {
     "data": {
      "text/plain": [
       "['.ipynb_checkpoints',\n",
       " 'book_equations.pdf',\n",
       " 'Fundamentals-of-Data-Engineering-by-Joe-Reis-and-Matt-Housley_bibis.ir.pdf',\n",
       " 'Hands-On_Machine_Learning_with_Scikit-Learn-Keras-and-TensorFlow-2nd-Edition-Aurelien-Geron.pdf',\n",
       " 'hissab.txt',\n",
       " 'Lokesh kumar saini (1).pdf',\n",
       " 'Lokesh kumar saini.pdf',\n",
       " 'MySQL Workbench 8.0 CE.lnk',\n",
       " 'osdemo',\n",
       " 'PW.lnk',\n",
       " 'triangles.pdf',\n",
       " 'Visual Studio Code.lnk']"
      ]
     },
     "execution_count": 8,
     "metadata": {},
     "output_type": "execute_result"
    }
   ],
   "source": [
    "os.listdir()"
   ]
  },
  {
   "cell_type": "code",
   "execution_count": 9,
   "id": "1200dfe8",
   "metadata": {},
   "outputs": [],
   "source": [
    "os.rmdir('osdemo/temp1')"
   ]
  },
  {
   "cell_type": "code",
   "execution_count": 12,
   "id": "9c26cf38",
   "metadata": {},
   "outputs": [],
   "source": [
    "os.removedirs('osdemo/temp1')"
   ]
  },
  {
   "cell_type": "code",
   "execution_count": 13,
   "id": "520f896f",
   "metadata": {},
   "outputs": [],
   "source": [
    "os.rename('hissab.txt','hisaab.txt')"
   ]
  },
  {
   "cell_type": "code",
   "execution_count": 14,
   "id": "5a5e945f",
   "metadata": {},
   "outputs": [
    {
     "data": {
      "text/plain": [
       "1705537090.9692307"
      ]
     },
     "execution_count": 14,
     "metadata": {},
     "output_type": "execute_result"
    }
   ],
   "source": [
    "mod_time=os.stat('hisaab.txt').st_mtime\n",
    "mod_time"
   ]
  },
  {
   "cell_type": "code",
   "execution_count": 15,
   "id": "2c190546",
   "metadata": {},
   "outputs": [
    {
     "name": "stdout",
     "output_type": "stream",
     "text": [
      "2024-01-18 05:48:10.969231\n"
     ]
    }
   ],
   "source": [
    "from datetime import datetime\n",
    "print(datetime.fromtimestamp(mod_time))"
   ]
  },
  {
   "cell_type": "code",
   "execution_count": 16,
   "id": "8e696479",
   "metadata": {},
   "outputs": [
    {
     "name": "stdout",
     "output_type": "stream",
     "text": [
      "current path:  C:\\Users\\Education\\Desktop\n",
      "directories:  ['.ipynb_checkpoints']\n",
      "files:  ['book_equations.pdf', 'Fundamentals-of-Data-Engineering-by-Joe-Reis-and-Matt-Housley_bibis.ir.pdf', 'Hands-On_Machine_Learning_with_Scikit-Learn-Keras-and-TensorFlow-2nd-Edition-Aurelien-Geron.pdf', 'hisaab.txt', 'Lokesh kumar saini (1).pdf', 'Lokesh kumar saini.pdf', 'MySQL Workbench 8.0 CE.lnk', 'PW.lnk', 'triangles.pdf', 'Visual Studio Code.lnk']\n",
      "current path:  C:\\Users\\Education\\Desktop\\.ipynb_checkpoints\n",
      "directories:  []\n",
      "files:  ['1.Stats-checkpoint.ipynb', '2.Stats-checkpoint.ipynb', 'Assignment solution-checkpoint.ipynb', 'Untitled-checkpoint.ipynb']\n"
     ]
    }
   ],
   "source": [
    "for dirpath,dirname,filename in os.walk(os.getcwd()):\n",
    "    print('current path: ',dirpath)\n",
    "    print('directories: ',dirname)\n",
    "    print('files: ',filename)"
   ]
  },
  {
   "cell_type": "code",
   "execution_count": 17,
   "id": "9cb11cd4",
   "metadata": {},
   "outputs": [
    {
     "data": {
      "text/plain": [
       "environ{'ADSK_CLM_WPAD_PROXY_CHECK': 'FALSE',\n",
       "        'ALLUSERSPROFILE': 'C:\\\\ProgramData',\n",
       "        'APPDATA': 'C:\\\\Users\\\\Education\\\\AppData\\\\Roaming',\n",
       "        'COMMONPROGRAMFILES': 'C:\\\\Program Files\\\\Common Files',\n",
       "        'COMMONPROGRAMFILES(X86)': 'C:\\\\Program Files (x86)\\\\Common Files',\n",
       "        'COMMONPROGRAMW6432': 'C:\\\\Program Files\\\\Common Files',\n",
       "        'COMPUTERNAME': 'LOKESH',\n",
       "        'COMSPEC': 'C:\\\\WINDOWS\\\\system32\\\\cmd.exe',\n",
       "        'DRIVERDATA': 'C:\\\\Windows\\\\System32\\\\Drivers\\\\DriverData',\n",
       "        'FPS_BROWSER_APP_PROFILE_STRING': 'Internet Explorer',\n",
       "        'FPS_BROWSER_USER_PROFILE_STRING': 'Default',\n",
       "        'HOMEDRIVE': 'C:',\n",
       "        'HOMEPATH': '\\\\Users\\\\Education',\n",
       "        'LOCALAPPDATA': 'C:\\\\Users\\\\Education\\\\AppData\\\\Local',\n",
       "        'LOGONSERVER': '\\\\\\\\LOKESH',\n",
       "        'NUMBER_OF_PROCESSORS': '2',\n",
       "        'ONEDRIVE': 'D:\\\\New folder\\\\OneDrive',\n",
       "        'ONEDRIVECONSUMER': 'D:\\\\New folder\\\\OneDrive',\n",
       "        'ONLINESERVICES': 'Online Services',\n",
       "        'OS': 'Windows_NT',\n",
       "        'PATH': 'C:\\\\Program Files\\\\Common Files\\\\Oracle\\\\Java\\\\javapath;C:\\\\WINDOWS\\\\system32;C:\\\\WINDOWS;C:\\\\WINDOWS\\\\System32\\\\Wbem;C:\\\\WINDOWS\\\\System32\\\\WindowsPowerShell\\\\v1.0\\\\;C:\\\\WINDOWS\\\\System32\\\\OpenSSH\\\\;C:\\\\Program Files\\\\Common Files\\\\Autodesk Shared\\\\;C:\\\\Program Files (x86)\\\\Autodesk\\\\Backburner\\\\;C:\\\\Program Files\\\\Microsoft SQL Server\\\\120\\\\Tools\\\\Binn\\\\;C:\\\\Program Files\\\\dotnet\\\\;C:\\\\Program Files\\\\Git\\\\cmd;C:\\\\Program Files\\\\nodejs\\\\;C:\\\\Users\\\\Education\\\\AppData\\\\Local\\\\Programs\\\\Python\\\\Python310\\\\Scripts\\\\;C:\\\\Users\\\\Education\\\\AppData\\\\Local\\\\Programs\\\\Python\\\\Python310\\\\;C:\\\\Users\\\\Education\\\\AppData\\\\Local\\\\Microsoft\\\\WindowsApps;C:\\\\Users\\\\Education\\\\OneDrive\\\\Documents;C:\\\\Program Files (x86)\\\\mingw-w64\\\\i686-8.1.0-posix-dwarf-rt_v6-rev0\\\\mingw32\\\\bin;C:\\\\MinGW\\\\bin;D:\\\\Coding VS code\\\\Microsoft VS Code\\\\bin;C:\\\\Users\\\\Education\\\\AppData\\\\Roaming\\\\npm',\n",
       "        'PATHEXT': '.COM;.EXE;.BAT;.CMD;.VBS;.VBE;.JS;.JSE;.WSF;.WSH;.MSC;.CPL',\n",
       "        'PLATFORMCODE': 'AN',\n",
       "        'PROCESSOR_ARCHITECTURE': 'AMD64',\n",
       "        'PROCESSOR_IDENTIFIER': 'AMD64 Family 21 Model 112 Stepping 0, AuthenticAMD',\n",
       "        'PROCESSOR_LEVEL': '21',\n",
       "        'PROCESSOR_REVISION': '7000',\n",
       "        'PROGRAMDATA': 'C:\\\\ProgramData',\n",
       "        'PROGRAMFILES': 'C:\\\\Program Files',\n",
       "        'PROGRAMFILES(X86)': 'C:\\\\Program Files (x86)',\n",
       "        'PROGRAMW6432': 'C:\\\\Program Files',\n",
       "        'PSMODULEPATH': 'C:\\\\Users\\\\Education\\\\Documents\\\\WindowsPowerShell\\\\Modules;C:\\\\Program Files\\\\WindowsPowerShell\\\\Modules;C:\\\\WINDOWS\\\\system32\\\\WindowsPowerShell\\\\v1.0\\\\Modules',\n",
       "        'PUBLIC': 'C:\\\\Users\\\\Public',\n",
       "        'REGIONCODE': 'APJ',\n",
       "        'SESSIONNAME': 'Console',\n",
       "        'SYSTEMDRIVE': 'C:',\n",
       "        'SYSTEMROOT': 'C:\\\\WINDOWS',\n",
       "        'TEMP': 'C:\\\\Users\\\\EDUCAT~1\\\\AppData\\\\Local\\\\Temp',\n",
       "        'TMP': 'C:\\\\Users\\\\EDUCAT~1\\\\AppData\\\\Local\\\\Temp',\n",
       "        'USERDOMAIN': 'LOKESH',\n",
       "        'USERDOMAIN_ROAMINGPROFILE': 'LOKESH',\n",
       "        'USERNAME': 'Education',\n",
       "        'USERPROFILE': 'C:\\\\Users\\\\Education',\n",
       "        'VBOX_HWVIRTEX_IGNORE_SVM_IN_USE': '1',\n",
       "        'VRAY30_RT_FOR_3DSMAX2014_MAIN_X64': 'C:\\\\Program Files\\\\Chaos Group\\\\V-Ray\\\\RT for 3ds Max 2014 for x64/bin',\n",
       "        'VRAY30_RT_FOR_3DSMAX2014_PLUGINS_X64': 'C:\\\\Program Files\\\\Chaos Group\\\\V-Ray\\\\RT for 3ds Max 2014 for x64/bin/plugins',\n",
       "        'VRAY_OSL_PATH_3DSMAX2014_X64': 'C:\\\\Program Files\\\\Chaos Group\\\\V-Ray\\\\3dsmax 2014 for x64\\\\opensl',\n",
       "        'WINDIR': 'C:\\\\WINDOWS',\n",
       "        'PYDEVD_USE_FRAME_EVAL': 'NO',\n",
       "        'JPY_INTERRUPT_EVENT': '2720',\n",
       "        'IPY_INTERRUPT_EVENT': '2720',\n",
       "        'JPY_PARENT_PID': '2736',\n",
       "        'TERM': 'xterm-color',\n",
       "        'CLICOLOR': '1',\n",
       "        'FORCE_COLOR': '1',\n",
       "        'CLICOLOR_FORCE': '1',\n",
       "        'PAGER': 'cat',\n",
       "        'GIT_PAGER': 'cat',\n",
       "        'MPLBACKEND': 'module://matplotlib_inline.backend_inline'}"
      ]
     },
     "execution_count": 17,
     "metadata": {},
     "output_type": "execute_result"
    }
   ],
   "source": [
    "os.environ"
   ]
  },
  {
   "cell_type": "code",
   "execution_count": 18,
   "id": "38b54445",
   "metadata": {},
   "outputs": [
    {
     "name": "stdout",
     "output_type": "stream",
     "text": [
      "\\Users\\Education\n"
     ]
    }
   ],
   "source": [
    "print(os.environ.get('HOMEPATH'))"
   ]
  },
  {
   "cell_type": "code",
   "execution_count": 19,
   "id": "a4ba732e",
   "metadata": {},
   "outputs": [
    {
     "data": {
      "text/plain": [
       "'\\\\Users\\\\Education\\\\test.txt'"
      ]
     },
     "execution_count": 19,
     "metadata": {},
     "output_type": "execute_result"
    }
   ],
   "source": [
    "filepath=os.path.join(os.environ.get('HOMEPATH'),'test.txt')\n",
    "filepath"
   ]
  },
  {
   "cell_type": "code",
   "execution_count": 20,
   "id": "b5662c51",
   "metadata": {},
   "outputs": [],
   "source": [
    "with open(filepath,'w') as f:\n",
    "    f.write('Hello')"
   ]
  },
  {
   "cell_type": "code",
   "execution_count": 21,
   "id": "844cb819",
   "metadata": {},
   "outputs": [
    {
     "data": {
      "text/plain": [
       "False"
      ]
     },
     "execution_count": 21,
     "metadata": {},
     "output_type": "execute_result"
    }
   ],
   "source": [
    "os.path.exists('/tmp/test.txt')"
   ]
  },
  {
   "cell_type": "code",
   "execution_count": 22,
   "id": "cd15c6ab",
   "metadata": {},
   "outputs": [
    {
     "data": {
      "text/plain": [
       "('/tmp', 'test.txt')"
      ]
     },
     "execution_count": 22,
     "metadata": {},
     "output_type": "execute_result"
    }
   ],
   "source": [
    "os.path.split('/tmp/test.txt')"
   ]
  },
  {
   "cell_type": "code",
   "execution_count": 23,
   "id": "bb26498e",
   "metadata": {},
   "outputs": [
    {
     "data": {
      "text/plain": [
       "('/tmp/test', '.txt')"
      ]
     },
     "execution_count": 23,
     "metadata": {},
     "output_type": "execute_result"
    }
   ],
   "source": [
    "os.path.splitext('/tmp/test.txt')"
   ]
  },
  {
   "cell_type": "code",
   "execution_count": 24,
   "id": "539cee9b",
   "metadata": {},
   "outputs": [
    {
     "data": {
      "text/plain": [
       "False"
      ]
     },
     "execution_count": 24,
     "metadata": {},
     "output_type": "execute_result"
    }
   ],
   "source": [
    "os.path.isdir('/tmp/test.txt')"
   ]
  },
  {
   "cell_type": "code",
   "execution_count": 25,
   "id": "d6c91665",
   "metadata": {},
   "outputs": [
    {
     "data": {
      "text/plain": [
       "False"
      ]
     },
     "execution_count": 25,
     "metadata": {},
     "output_type": "execute_result"
    }
   ],
   "source": [
    "os.path.isfile('/tmp/test.txt')"
   ]
  },
  {
   "cell_type": "markdown",
   "id": "5c31aa91",
   "metadata": {},
   "source": [
    "+ os.getcwd()                                            => get current working directory\n",
    "+ os.chdir(<path>)                                    => change directory \n",
    "+ os.listdir()\t                                            => list directory\n",
    "+ os.mkdir(<dirname>)                           => create a directory\n",
    "+ os.makedirs(<dirname>)                    => make directories recursively\n",
    "+ os.rmdir(<dirname>)\t                   => remove directory\n",
    "+ os.removedirs(<dirname>)                => remove directory recursively\n",
    "+ os.rename(<from>, <to>)                   => rename file\n",
    "+ os.stat(<filename>)                            => print all info of a file\n",
    "+ os.walk(<path>)\t                          => traverse directory recursively\n",
    "+ os.environ\t\t                                 => get environment variables\n",
    "+ os.path.join(<path>, <file>)              => join path without worrying about /\n",
    "+ os.path.basename(<filename>)     => get basename\n",
    "+ os.path.dirname(<filename>)         => get dirname\n",
    "+ os.path.exists(<path-to-file>)         => check if the path exists or not\n",
    "+ os.path.splitext(<path-to-file>)      => split path and file extension\n",
    "+ dir(os)\t\t\t                               => check what methods exists"
   ]
  },
  {
   "cell_type": "code",
   "execution_count": null,
   "id": "cce54cd1",
   "metadata": {},
   "outputs": [],
   "source": []
  }
 ],
 "metadata": {
  "kernelspec": {
   "display_name": "Python 3 (ipykernel)",
   "language": "python",
   "name": "python3"
  },
  "language_info": {
   "codemirror_mode": {
    "name": "ipython",
    "version": 3
   },
   "file_extension": ".py",
   "mimetype": "text/x-python",
   "name": "python",
   "nbconvert_exporter": "python",
   "pygments_lexer": "ipython3",
   "version": "3.10.4"
  }
 },
 "nbformat": 4,
 "nbformat_minor": 5
}
