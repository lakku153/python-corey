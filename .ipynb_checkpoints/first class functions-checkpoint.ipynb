{
 "cells": [
  {
   "cell_type": "markdown",
   "id": "cc5c2965-4af9-4fee-91bb-2ade040c5ad9",
   "metadata": {},
   "source": [
    "### a programming language is said to have first-class functions if it treats functions as first-class citizens. This means the language supports passing functions as arguments to other functions, returning them as the values from other functions, and assigning them to variables or storing them in data structures.[1]"
   ]
  },
  {
   "cell_type": "markdown",
   "id": "061f54c6-1a50-4273-a154-3e02dc68bb4a",
   "metadata": {},
   "source": [
    "#### First-class functions are a necessity for the functional programming style, in which the use of higher-order functions is a standard practice. A simple example of a higher-ordered function is the map function, which takes, as its arguments, a function and a list, and returns the list formed by applying the function to each member of the list. For a language to support map, it must support passing a function as an argument."
   ]
  },
  {
   "cell_type": "code",
   "execution_count": 1,
   "id": "d8d65d94-95e6-4717-b361-b850d6d2be8f",
   "metadata": {},
   "outputs": [
    {
     "name": "stdout",
     "output_type": "stream",
     "text": [
      "<function square at 0x0000029D20C4AD40>\n",
      "25\n"
     ]
    }
   ],
   "source": [
    "def square(x):\n",
    "    return x*x\n",
    "\n",
    "f=square(5)\n",
    "print(square)\n",
    "print(f)"
   ]
  },
  {
   "cell_type": "code",
   "execution_count": 2,
   "id": "914c0683-11f2-46e4-bd70-a9e84ffd60c3",
   "metadata": {},
   "outputs": [
    {
     "name": "stdout",
     "output_type": "stream",
     "text": [
      "<function square at 0x0000029D20C4B2E0>\n",
      "25\n"
     ]
    }
   ],
   "source": [
    "def square(x):\n",
    "    return x*x\n",
    "\n",
    "f=square\n",
    "print(square)\n",
    "print(f(5))"
   ]
  },
  {
   "cell_type": "code",
   "execution_count": 5,
   "id": "f6018e70-d9f0-4d38-8809-7b0863bb3a09",
   "metadata": {},
   "outputs": [
    {
     "name": "stdout",
     "output_type": "stream",
     "text": [
      "[1, 4, 9, 16, 25]\n"
     ]
    }
   ],
   "source": [
    "def square(x):\n",
    "    return x*x\n",
    "\n",
    "def my_map(func,my_list):\n",
    "    result=[]\n",
    "    for i in my_list:\n",
    "        result.append(func(i))\n",
    "    return result\n",
    "\n",
    "squares=my_map(square,[1,2,3,4,5])\n",
    "print(squares)"
   ]
  },
  {
   "cell_type": "code",
   "execution_count": 6,
   "id": "71fabe23-5cd2-49dd-83e3-4aab5fe94c51",
   "metadata": {},
   "outputs": [],
   "source": [
    "def cube(x):\n",
    "    return x*x*x\n",
    "\n"
   ]
  },
  {
   "cell_type": "code",
   "execution_count": 7,
   "id": "16b45f5f-d6ea-45fd-a052-8b67e90452c2",
   "metadata": {},
   "outputs": [
    {
     "name": "stdout",
     "output_type": "stream",
     "text": [
      "[1, 8, 27, 64, 125]\n"
     ]
    }
   ],
   "source": [
    "cubes=my_map(cube,[1,2,3,4,5])\n",
    "print(cubes)"
   ]
  },
  {
   "cell_type": "code",
   "execution_count": 11,
   "id": "9922101a-1595-4611-bcfd-75e6a11ea8de",
   "metadata": {},
   "outputs": [
    {
     "name": "stdout",
     "output_type": "stream",
     "text": [
      "log: Hii\n"
     ]
    }
   ],
   "source": [
    "def logger(msg):\n",
    "    def log_message():\n",
    "        print('log:',msg)\n",
    "    return log_message\n",
    "\n",
    "log=logger('Hii')\n",
    "log()"
   ]
  },
  {
   "cell_type": "code",
   "execution_count": 12,
   "id": "f0cc9091-d224-4028-94be-1c01c5599277",
   "metadata": {},
   "outputs": [
    {
     "name": "stdout",
     "output_type": "stream",
     "text": [
      "<h1>Test Headline!</h1>\n",
      "<h1>Another Headline!</h1>\n"
     ]
    }
   ],
   "source": [
    "\n",
    "def html_tag(tag):\n",
    "\n",
    "    def wrap_text(msg):\n",
    "        print('<{0}>{1}</{0}>'.format(tag, msg))\n",
    "\n",
    "    return wrap_text\n",
    "\n",
    "print_h1 = html_tag('h1')  # print_h1 is the function wrap_text\n",
    "print_h1('Test Headline!')\n",
    "print_h1('Another Headline!')\n"
   ]
  },
  {
   "cell_type": "code",
   "execution_count": 13,
   "id": "b0849983-698c-4301-aa72-590aa9c88f75",
   "metadata": {},
   "outputs": [
    {
     "name": "stdout",
     "output_type": "stream",
     "text": [
      "<p>Test Paragraph!</p>\n"
     ]
    }
   ],
   "source": [
    "\n",
    "print_p = html_tag('p')\n",
    "print_p('Test Paragraph!')"
   ]
  },
  {
   "cell_type": "markdown",
   "id": "e563df02-c290-414d-b4c1-29dd79d9a76a",
   "metadata": {},
   "source": [
    "Summary: First class functions allows us to treat functons like any other object\n",
    "We can pass functions as arguments, we can return  functions as values, we can assign functions to variables"
   ]
  },
  {
   "cell_type": "code",
   "execution_count": null,
   "id": "169a00c1-3033-4e2b-a425-b53ba179f0a8",
   "metadata": {},
   "outputs": [],
   "source": []
  }
 ],
 "metadata": {
  "kernelspec": {
   "display_name": "Python 3 (ipykernel)",
   "language": "python",
   "name": "python3"
  },
  "language_info": {
   "codemirror_mode": {
    "name": "ipython",
    "version": 3
   },
   "file_extension": ".py",
   "mimetype": "text/x-python",
   "name": "python",
   "nbconvert_exporter": "python",
   "pygments_lexer": "ipython3",
   "version": "3.12.4"
  }
 },
 "nbformat": 4,
 "nbformat_minor": 5
}
