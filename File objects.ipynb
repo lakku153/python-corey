{
 "cells": [
  {
   "cell_type": "code",
   "execution_count": 1,
   "id": "13b7288d",
   "metadata": {},
   "outputs": [],
   "source": [
    "f=open('test.txt','r')\n",
    "#f = open(\"test.txt\", \"w\")\n",
    "#f = open(\"test.txt\", \"a\")\n",
    "#f = open(\"test.txt\", \"r+\")"
   ]
  },
  {
   "cell_type": "code",
   "execution_count": 2,
   "id": "ad2cdb76",
   "metadata": {},
   "outputs": [
    {
     "data": {
      "text/plain": [
       "'test.txt'"
      ]
     },
     "execution_count": 2,
     "metadata": {},
     "output_type": "execute_result"
    }
   ],
   "source": [
    "f.name"
   ]
  },
  {
   "cell_type": "code",
   "execution_count": 3,
   "id": "11daf698",
   "metadata": {},
   "outputs": [
    {
     "data": {
      "text/plain": [
       "'r'"
      ]
     },
     "execution_count": 3,
     "metadata": {},
     "output_type": "execute_result"
    }
   ],
   "source": [
    "f.mode"
   ]
  },
  {
   "cell_type": "code",
   "execution_count": 6,
   "id": "466e3186",
   "metadata": {},
   "outputs": [
    {
     "data": {
      "text/plain": [
       "'1) This is a test file\\n2) With multiple lines of data...\\n3) Third line\\n4) Fourth line\\n5) Fifth line\\n6) Sixth line\\n7) Seventh line\\n8) Eighth line\\n9) Ninth line\\n10) Tenth line'"
      ]
     },
     "execution_count": 6,
     "metadata": {},
     "output_type": "execute_result"
    }
   ],
   "source": [
    "content=f.read()\n",
    "content"
   ]
  },
  {
   "cell_type": "code",
   "execution_count": 8,
   "id": "49d977cb",
   "metadata": {},
   "outputs": [
    {
     "data": {
      "text/plain": [
       "[]"
      ]
     },
     "execution_count": 8,
     "metadata": {},
     "output_type": "execute_result"
    }
   ],
   "source": [
    "contents=f.readlines()\n",
    "contents"
   ]
  },
  {
   "cell_type": "code",
   "execution_count": 9,
   "id": "5f1c3ae6",
   "metadata": {},
   "outputs": [
    {
     "data": {
      "text/plain": [
       "''"
      ]
     },
     "execution_count": 9,
     "metadata": {},
     "output_type": "execute_result"
    }
   ],
   "source": [
    "cont=f.readline()\n",
    "cont"
   ]
  },
  {
   "cell_type": "code",
   "execution_count": 11,
   "id": "a466a2f6",
   "metadata": {},
   "outputs": [],
   "source": [
    "for line in f:\n",
    "    print(line,end='')"
   ]
  },
  {
   "cell_type": "code",
   "execution_count": 12,
   "id": "7060eb0a",
   "metadata": {},
   "outputs": [],
   "source": [
    "f.close()"
   ]
  },
  {
   "cell_type": "code",
   "execution_count": null,
   "id": "a3b77936",
   "metadata": {},
   "outputs": [],
   "source": []
  },
  {
   "cell_type": "code",
   "execution_count": null,
   "id": "b7a88d10",
   "metadata": {},
   "outputs": [],
   "source": []
  },
  {
   "cell_type": "code",
   "execution_count": 15,
   "id": "8030a853",
   "metadata": {},
   "outputs": [
    {
     "name": "stdout",
     "output_type": "stream",
     "text": [
      "1) This is a test file\n",
      "\n",
      "2) With multiple lines of data...\n",
      "\n"
     ]
    }
   ],
   "source": [
    "with open(\"test.txt\", \"r\") as f:\n",
    "#     f_contents = f.read()\n",
    "#     print(f_contents)\n",
    "\n",
    "    ##Big Files:\n",
    "\t# f_contents = f.readlines()\n",
    "\t# print(f_contents)\n",
    "\n",
    "   ###With the extra lines:\n",
    "\t# f_contents = f.readline()\n",
    "\t# print(f_contents)\n",
    "\t# f_contents = f.readline()\n",
    "\t# print(f_contents)\n",
    "\n",
    "###Without the extra lines:\n",
    "# \tf_contents = f.readline()\n",
    "# \tprint(f_contents, end = '')\n",
    "# \tf_contents = f.readline()\n",
    "# \tprint(f_contents, end = '')\n",
    "\n",
    "###Iterating through the file:\n",
    "# \tfor line in f:\n",
    "# \t\tprint(line, end = '')\n",
    "\n",
    "###Printing by characters:\n",
    "#     f_contents = f.read(100)\n",
    "#     print(f_contents,end='')\n",
    "#     f_contents = f.read(100)\n",
    "#     print(f_contents, end = '')\n",
    "#     f_contents = f.read(100)\n",
    "#     print(f_contents, end = '')\n",
    "\n",
    "###Iterating through small chunks:\n",
    "#     size_to_read = 100\n",
    "#     f_contents = f.read(size_to_read)\n",
    "#     while len(f_contents) > 0:\n",
    "#         print(f_contents)\n",
    "#         f_contents = f.read(size_to_read)\n",
    "\n",
    "###Iterating through small chunks, with 10 characters:\n",
    "#     size_to_read = 10\n",
    "#     f_contents = f.read(size_to_read)\n",
    "#     print(f_contents,end='')\n",
    "#     f.seek(0)\n",
    "#     f_contents = f.read(size_to_read)\n",
    "#     print(f_contents, end = '')\n",
    "#     print(f.tell())\n",
    "\n",
    "#     while len(f_contents) > 0:\n",
    "#         print(f_contents, end = '*')\n",
    "#         f_contents = f.read(size_to_read)\n",
    "#     print(f.mode)\n",
    "#     print(f.closed)\n",
    "#     print(f.read())\n",
    "    \n",
    "    ##Writing Starts:\n",
    "#     with open(\"test2.txt\", \"w\") as f:\n",
    "#         f.write(\"Test\")\n",
    "#         f.seek(0)\n",
    "#         f.write(\"Test\")\n",
    "#         f.seek(\"R\")\n",
    "\n",
    "##Copying Files:\n",
    "#     with open(\"test.txt\", \"r\") as rf:\n",
    "#         with open(\"test_copy.txt\", \"w\") as wf:\n",
    "#             for line in rf:\n",
    "#                 wf.write(line)\n",
    "\n",
    "###Copying the image starts, without chunks:\n",
    "#     with open(\"me.jpeg\", \"rb\") as rf:\n",
    "#         with open(\"me_copy.jpg\", \"wb\") as wf:\n",
    "#             for line in rf:\n",
    "#                 wf.write(line)\n",
    "\n",
    "###Copying the image with chunks:\n",
    "with open(\"me.jpeg\", \"rb\") as rf:\n",
    "    with open(\"me_copy1.jpg\", \"wb\") as wf:\n",
    "        chunk_size = 4096\n",
    "        rf_chunk = rf.read(chunk_size)\n",
    "        while len(rf_chunk) > 0:\n",
    "            wf.write(rf_chunk)\n",
    "            rf_chunk = rf.read(chunk_size)"
   ]
  },
  {
   "cell_type": "code",
   "execution_count": null,
   "id": "d8a3e6dd",
   "metadata": {},
   "outputs": [],
   "source": []
  },
  {
   "cell_type": "code",
   "execution_count": null,
   "id": "343f26dd",
   "metadata": {},
   "outputs": [],
   "source": []
  }
 ],
 "metadata": {
  "kernelspec": {
   "display_name": "Python 3 (ipykernel)",
   "language": "python",
   "name": "python3"
  },
  "language_info": {
   "codemirror_mode": {
    "name": "ipython",
    "version": 3
   },
   "file_extension": ".py",
   "mimetype": "text/x-python",
   "name": "python",
   "nbconvert_exporter": "python",
   "pygments_lexer": "ipython3",
   "version": "3.13.0"
  }
 },
 "nbformat": 4,
 "nbformat_minor": 5
}
