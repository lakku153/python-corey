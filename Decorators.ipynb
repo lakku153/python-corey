{
 "cells": [
  {
   "cell_type": "code",
   "execution_count": 1,
   "id": "07a76b06",
   "metadata": {},
   "outputs": [],
   "source": [
    "def outer(msg):\n",
    "    def inner():\n",
    "        print(msg)\n",
    "    return inner\n",
    "\n",
    "hi_func=outer('Hi')\n",
    "hello_func=outer('Hello')"
   ]
  },
  {
   "cell_type": "code",
   "execution_count": 2,
   "id": "83a985a7-1331-4de6-ab77-429f1f2c9828",
   "metadata": {},
   "outputs": [
    {
     "name": "stdout",
     "output_type": "stream",
     "text": [
      "Hi\n"
     ]
    }
   ],
   "source": [
    "hi_func()"
   ]
  },
  {
   "cell_type": "code",
   "execution_count": 3,
   "id": "339da52e-59cb-4df6-8694-961e489dfa2e",
   "metadata": {},
   "outputs": [
    {
     "name": "stdout",
     "output_type": "stream",
     "text": [
      "Hello\n"
     ]
    }
   ],
   "source": [
    "hello_func()"
   ]
  },
  {
   "cell_type": "code",
   "execution_count": 4,
   "id": "7598ab1e-ceb0-40ee-b236-4278ccb5dbf8",
   "metadata": {},
   "outputs": [
    {
     "name": "stdout",
     "output_type": "stream",
     "text": [
      "display function ran \n"
     ]
    }
   ],
   "source": [
    "def decorator_function(original_func):\n",
    "    def wrapper_func():\n",
    "        return original_func()\n",
    "    return wrapper_func\n",
    "\n",
    "def display():\n",
    "    print('display function ran ')\n",
    "\n",
    "decor_display=decorator_function(display)\n",
    "\n",
    "decor_display()"
   ]
  },
  {
   "cell_type": "code",
   "execution_count": 5,
   "id": "b62ecb8d-848e-4035-b787-aeaaca4bebe8",
   "metadata": {},
   "outputs": [
    {
     "name": "stdout",
     "output_type": "stream",
     "text": [
      "wrapper executed this before display\n",
      "display function ran \n"
     ]
    }
   ],
   "source": [
    "def decorator_function(original_func):\n",
    "    def wrapper_func():\n",
    "        print('wrapper executed this before {}'.format(original_func.__name__))\n",
    "        return original_func()\n",
    "    return wrapper_func\n",
    "\n",
    "def display():\n",
    "    print('display function ran ')\n",
    "\n",
    "decor_display=decorator_function(display)\n",
    "\n",
    "decor_display()"
   ]
  },
  {
   "cell_type": "code",
   "execution_count": 6,
   "id": "79dc3319-40fb-4019-998e-9872e7f6aa56",
   "metadata": {},
   "outputs": [
    {
     "name": "stdout",
     "output_type": "stream",
     "text": [
      "wrapper executed this before display\n",
      "display function ran \n"
     ]
    }
   ],
   "source": [
    "def decorator_function(original_func):\n",
    "    def wrapper_func():\n",
    "        print('wrapper executed this before {}'.format(original_func.__name__))\n",
    "        return original_func()\n",
    "    return wrapper_func\n",
    "@decorator_function\n",
    "def display():\n",
    "    print('display function ran ')\n",
    "# display=decorator_function(display)  this is the thing that is executing\n",
    "display()"
   ]
  },
  {
   "cell_type": "code",
   "execution_count": 7,
   "id": "4964240c-6a39-4238-adf7-9b3e168ccfa9",
   "metadata": {},
   "outputs": [
    {
     "name": "stdout",
     "output_type": "stream",
     "text": [
      "wrapper executed this before display\n",
      "display function ran \n",
      "wrapper executed this before display_info\n",
      "display_info ran with arguments (lok,10)\n"
     ]
    }
   ],
   "source": [
    "def decorator_function(original_func):\n",
    "    def wrapper_func(*args,**kwargs):\n",
    "        print('wrapper executed this before {}'.format(original_func.__name__))\n",
    "        return original_func(*args,**kwargs)\n",
    "    return wrapper_func\n",
    "@decorator_function\n",
    "def display():\n",
    "    print('display function ran ')\n",
    "\n",
    "@decorator_function\n",
    "def display_info(name,age):\n",
    "    print('display_info ran with arguments ({},{})'.format(name,age))\n",
    "# display=decorator_function(display)  this is the thing that is executing\n",
    "display()\n",
    "display_info('lok',10)"
   ]
  },
  {
   "cell_type": "code",
   "execution_count": 16,
   "id": "eba55069-6b5c-41d5-bf3f-25866b92b54f",
   "metadata": {},
   "outputs": [
    {
     "name": "stdout",
     "output_type": "stream",
     "text": [
      "call method before display\n",
      "display function ran \n",
      "call method before display_info\n",
      "display_info ran with arguments (lok,10)\n"
     ]
    }
   ],
   "source": [
    "class decorator_class(object):\n",
    "\n",
    "    def __init__(self, original_function):\n",
    "        self.original_function = original_function\n",
    "\n",
    "    def __call__(self, *args, **kwargs):\n",
    "        print('call method before {}'.format(self.original_function.__name__))\n",
    "        self.original_function(*args, **kwargs)\n",
    "@decorator_class\n",
    "def display():\n",
    "    print('display function ran ')\n",
    "\n",
    "@decorator_class\n",
    "def display_info(name,age):\n",
    "    print('display_info ran with arguments ({},{})'.format(name,age))\n",
    "# display=decorator_function(display)  this is the thing that is executing\n",
    "display()\n",
    "display_info('lok',10)"
   ]
  },
  {
   "cell_type": "code",
   "execution_count": 19,
   "id": "b3980c29-237f-4d68-9db1-126c404f7cbb",
   "metadata": {},
   "outputs": [
    {
     "name": "stdout",
     "output_type": "stream",
     "text": [
      "display_info ran with arguments (lokesh,20)\n"
     ]
    }
   ],
   "source": [
    "def my_logger(orig_func):\n",
    "    import logging\n",
    "    logging.basicConfig(filename='{}.log'.format(orig_func.__name__), level=logging.INFO)\n",
    "\n",
    "    def wrapper(*args, **kwargs):\n",
    "        logging.info(\n",
    "            'Ran with args: {}, and kwargs: {}'.format(args, kwargs))\n",
    "        return orig_func(*args, **kwargs)\n",
    "\n",
    "    return wrapper\n",
    "\n",
    "\n",
    "def my_timer(orig_func):\n",
    "    import time\n",
    "\n",
    "    def wrapper(*args, **kwargs):\n",
    "        t1 = time.time()\n",
    "        result = orig_func(*args, **kwargs)\n",
    "        t2 = time.time() - t1\n",
    "        print('{} ran in: {} sec'.format(orig_func.__name__, t2))\n",
    "        return result\n",
    "\n",
    "    return wrapper\n",
    "\n",
    "# @decorator_class\n",
    "# def display():\n",
    "#     print('display function ran ')\n",
    "\n",
    "@my_logger\n",
    "def display_info(name,age):\n",
    "    print('display_info ran with arguments ({},{})'.format(name,age))\n",
    "# display=decorator_function(display)  this is the thing that is executing\n",
    "# display()\n",
    "display_info('lokesh',20)"
   ]
  },
  {
   "cell_type": "code",
   "execution_count": 21,
   "id": "b0e2ad6e-78aa-4975-ac0d-3a621ee3021e",
   "metadata": {},
   "outputs": [
    {
     "name": "stdout",
     "output_type": "stream",
     "text": [
      "display_info ran with arguments (lokesh,20)\n",
      "display_info ran in: 1.0132176876068115 sec\n"
     ]
    }
   ],
   "source": [
    "def my_logger(orig_func):\n",
    "    import logging\n",
    "    logging.basicConfig(filename='{}.log'.format(orig_func.__name__), level=logging.INFO)\n",
    "\n",
    "    def wrapper(*args, **kwargs):\n",
    "        logging.info(\n",
    "            'Ran with args: {}, and kwargs: {}'.format(args, kwargs))\n",
    "        return orig_func(*args, **kwargs)\n",
    "\n",
    "    return wrapper\n",
    "\n",
    "\n",
    "def my_timer(orig_func):\n",
    "    import time\n",
    "\n",
    "    def wrapper(*args, **kwargs):\n",
    "        t1 = time.time()\n",
    "        result = orig_func(*args, **kwargs)\n",
    "        t2 = time.time() - t1\n",
    "        print('{} ran in: {} sec'.format(orig_func.__name__, t2))\n",
    "        return result\n",
    "\n",
    "    return wrapper\n",
    "\n",
    "# @decorator_class\n",
    "# def display():\n",
    "#     print('display function ran ')\n",
    "\n",
    "\n",
    "import time\n",
    "\n",
    "@my_timer\n",
    "def display_info(name,age):\n",
    "    time.sleep(1)\n",
    "    print('display_info ran with arguments ({},{})'.format(name,age))\n",
    "    \n",
    "# display()\n",
    "display_info('lokesh',20)"
   ]
  },
  {
   "cell_type": "code",
   "execution_count": 23,
   "id": "3c5a7759-5995-449c-985b-44d97410e308",
   "metadata": {},
   "outputs": [
    {
     "name": "stdout",
     "output_type": "stream",
     "text": [
      "display_info ran with arguments (lokesh,20)\n",
      "display_info ran in: 1.0048010349273682 sec\n"
     ]
    }
   ],
   "source": [
    "from functools import wraps\n",
    "def my_logger(orig_func):\n",
    "    import logging\n",
    "    logging.basicConfig(filename='{}.log'.format(orig_func.__name__), level=logging.INFO,force=True)\n",
    "\n",
    "    @wraps(orig_func)\n",
    "    def wrapper(*args, **kwargs):\n",
    "        logging.info(\n",
    "            'Ran with args: {}, and kwargs: {}'.format(args, kwargs))\n",
    "        return orig_func(*args, **kwargs)\n",
    "\n",
    "    return wrapper\n",
    "\n",
    "\n",
    "def my_timer(orig_func):\n",
    "    import time\n",
    "\n",
    "    @wraps(orig_func)\n",
    "    def wrapper(*args, **kwargs):\n",
    "        t1 = time.time()\n",
    "        result = orig_func(*args, **kwargs)\n",
    "        t2 = time.time() - t1\n",
    "        print('{} ran in: {} sec'.format(orig_func.__name__, t2))\n",
    "        return result\n",
    "\n",
    "    return wrapper\n",
    "\n",
    "# @decorator_class\n",
    "# def display():\n",
    "#     print('display function ran ')\n",
    "\n",
    "\n",
    "import time\n",
    "@my_logger\n",
    "@my_timer\n",
    "def display_info(name,age):\n",
    "    time.sleep(1)\n",
    "    print('display_info ran with arguments ({},{})'.format(name,age))\n",
    "    \n",
    "# display()\n",
    "# display_info=my_logger(my_timer(display_info))\n",
    "display_info('lokesh',20)"
   ]
  },
  {
   "cell_type": "code",
   "execution_count": 25,
   "id": "9fb4a4da-0eaf-48e6-bdfb-adf6a41023f4",
   "metadata": {},
   "outputs": [
    {
     "name": "stdout",
     "output_type": "stream",
     "text": [
      "display_info\n",
      "display_info ran with arguments (lokesh,20)\n",
      "display_info ran in: 1.0037837028503418 sec\n"
     ]
    }
   ],
   "source": [
    "from functools import wraps\n",
    "def my_logger(orig_func):\n",
    "    import logging\n",
    "    logging.basicConfig(filename='{}.log'.format(orig_func.__name__), level=logging.INFO,force=True)\n",
    "\n",
    "    @wraps(orig_func)\n",
    "    def wrapper(*args, **kwargs):\n",
    "        logging.info(\n",
    "            'Ran with args: {}, and kwargs: {}'.format(args, kwargs))\n",
    "        return orig_func(*args, **kwargs)\n",
    "\n",
    "    return wrapper\n",
    "\n",
    "\n",
    "def my_timer(orig_func):\n",
    "    import time\n",
    "\n",
    "    @wraps(orig_func)\n",
    "    def wrapper(*args, **kwargs):\n",
    "        t1 = time.time()\n",
    "        result = orig_func(*args, **kwargs)\n",
    "        t2 = time.time() - t1\n",
    "        print('{} ran in: {} sec'.format(orig_func.__name__, t2))\n",
    "        return result\n",
    "\n",
    "    return wrapper\n",
    "\n",
    "# @decorator_class\n",
    "# def display():\n",
    "#     print('display function ran ')\n",
    "\n",
    "\n",
    "import time\n",
    "# @my_logger\n",
    "# @my_timer\n",
    "def display_info(name,age):\n",
    "    time.sleep(1)\n",
    "    print('display_info ran with arguments ({},{})'.format(name,age))\n",
    "    \n",
    "# display()\n",
    "# display_info=my_logger(my_timer(display_info))\n",
    "display_info=my_timer(display_info)\n",
    "print(display_info.__name__)\n",
    "display_info('lokesh',20)"
   ]
  },
  {
   "cell_type": "code",
   "execution_count": 26,
   "id": "5fa48c23-55d5-4026-9ef2-497e35f89317",
   "metadata": {},
   "outputs": [
    {
     "name": "stdout",
     "output_type": "stream",
     "text": [
      "display_info ran with arguments (rahul,30)\n",
      "display_info ran in: 1.014803171157837 sec\n"
     ]
    }
   ],
   "source": [
    "from functools import wraps\n",
    "def my_logger(orig_func):\n",
    "    import logging\n",
    "    logging.basicConfig(filename='{}.log'.format(orig_func.__name__), level=logging.INFO,force=True)\n",
    "\n",
    "    @wraps(orig_func)\n",
    "    def wrapper(*args, **kwargs):\n",
    "        logging.info(\n",
    "            'Ran with args: {}, and kwargs: {}'.format(args, kwargs))\n",
    "        return orig_func(*args, **kwargs)\n",
    "\n",
    "    return wrapper\n",
    "\n",
    "\n",
    "def my_timer(orig_func):\n",
    "    import time\n",
    "\n",
    "    @wraps(orig_func)\n",
    "    def wrapper(*args, **kwargs):\n",
    "        t1 = time.time()\n",
    "        result = orig_func(*args, **kwargs)\n",
    "        t2 = time.time() - t1\n",
    "        print('{} ran in: {} sec'.format(orig_func.__name__, t2))\n",
    "        return result\n",
    "\n",
    "    return wrapper\n",
    "\n",
    "\n",
    "\n",
    "\n",
    "import time\n",
    "@my_logger\n",
    "@my_timer\n",
    "def display_info(name,age):\n",
    "    time.sleep(1)\n",
    "    print('display_info ran with arguments ({},{})'.format(name,age))\n",
    "    \n",
    "\n",
    "\n",
    "display_info('rahul',30)"
   ]
  },
  {
   "cell_type": "code",
   "execution_count": null,
   "id": "7a2fc540-32ad-468d-b5ce-1887a5e11e44",
   "metadata": {},
   "outputs": [],
   "source": []
  }
 ],
 "metadata": {
  "kernelspec": {
   "display_name": "Python 3 (ipykernel)",
   "language": "python",
   "name": "python3"
  },
  "language_info": {
   "codemirror_mode": {
    "name": "ipython",
    "version": 3
   },
   "file_extension": ".py",
   "mimetype": "text/x-python",
   "name": "python",
   "nbconvert_exporter": "python",
   "pygments_lexer": "ipython3",
   "version": "3.13.0"
  }
 },
 "nbformat": 4,
 "nbformat_minor": 5
}
