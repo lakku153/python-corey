{
 "cells": [
  {
   "cell_type": "code",
   "execution_count": 1,
   "id": "baf40455",
   "metadata": {},
   "outputs": [],
   "source": [
    "ls=[4,2,8,1,5]"
   ]
  },
  {
   "cell_type": "code",
   "execution_count": 8,
   "id": "4b032e71",
   "metadata": {},
   "outputs": [],
   "source": [
    "a=tuple(enumerate(ls))"
   ]
  },
  {
   "cell_type": "code",
   "execution_count": 9,
   "id": "2f514496",
   "metadata": {},
   "outputs": [
    {
     "data": {
      "text/plain": [
       "((0, 4), (1, 2), (2, 8), (3, 1), (4, 5))"
      ]
     },
     "execution_count": 9,
     "metadata": {},
     "output_type": "execute_result"
    }
   ],
   "source": [
    "a"
   ]
  },
  {
   "cell_type": "code",
   "execution_count": 10,
   "id": "a547da13",
   "metadata": {},
   "outputs": [
    {
     "name": "stdout",
     "output_type": "stream",
     "text": [
      "0 4\n",
      "1 2\n",
      "2 8\n",
      "3 1\n",
      "4 5\n"
     ]
    }
   ],
   "source": [
    "for ind,val in a:\n",
    "    print(ind,val)"
   ]
  },
  {
   "cell_type": "code",
   "execution_count": null,
   "id": "65b36d13",
   "metadata": {},
   "outputs": [],
   "source": [
    "a={1,2,3,4}"
   ]
  }
 ],
 "metadata": {
  "kernelspec": {
   "display_name": "Python 3 (ipykernel)",
   "language": "python",
   "name": "python3"
  },
  "language_info": {
   "codemirror_mode": {
    "name": "ipython",
    "version": 3
   },
   "file_extension": ".py",
   "mimetype": "text/x-python",
   "name": "python",
   "nbconvert_exporter": "python",
   "pygments_lexer": "ipython3",
   "version": "3.10.4"
  }
 },
 "nbformat": 4,
 "nbformat_minor": 5
}
