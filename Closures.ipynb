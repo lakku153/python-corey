{
 "cells": [
  {
   "cell_type": "markdown",
   "id": "53374705-a967-4f97-973c-31c815224bb6",
   "metadata": {},
   "source": [
    "### , a closure, also lexical closure or function closure, is a technique for implementing lexically scoped name binding in a language with first-class functions. Operationally, a closure is a record storing a function[a] together with an environment.[1] The environment is a mapping associating each free variable of the function (variables that are used locally, but defined in an enclosing scope) with the value or reference to which the name was bound when the closure was created.[b] Unlike a plain function, a closure allows the function to access those captured variables through the closure's copies of their values or references, even when the function is invoked outside their scope.\n"
   ]
  },
  {
   "cell_type": "code",
   "execution_count": 1,
   "id": "fd3da8b7-5e80-4771-ac1e-1300dc73ddf9",
   "metadata": {},
   "outputs": [],
   "source": [
    "def outer():\n",
    "    message='Lokesh'\n",
    "    def inner():\n",
    "        print(message)\n",
    "    return inner()"
   ]
  },
  {
   "cell_type": "code",
   "execution_count": 2,
   "id": "0dd49024-8907-46bf-bc0a-88a66fab2a60",
   "metadata": {},
   "outputs": [
    {
     "name": "stdout",
     "output_type": "stream",
     "text": [
      "Lokesh\n"
     ]
    }
   ],
   "source": [
    "outer()"
   ]
  },
  {
   "cell_type": "code",
   "execution_count": 3,
   "id": "86a96944-f0ce-421d-9ddd-fc6bb9f08c9a",
   "metadata": {},
   "outputs": [],
   "source": [
    "def outer():\n",
    "    message='Lokesh'\n",
    "    def inner():\n",
    "        print(message)\n",
    "    return inner"
   ]
  },
  {
   "cell_type": "code",
   "execution_count": 4,
   "id": "87ed42e8-aa8d-4b6c-b5fd-0cb3d56af7f4",
   "metadata": {},
   "outputs": [
    {
     "name": "stdout",
     "output_type": "stream",
     "text": [
      "Lokesh\n"
     ]
    }
   ],
   "source": [
    "outer()()   # or"
   ]
  },
  {
   "cell_type": "code",
   "execution_count": 5,
   "id": "d9df41b6-7155-4355-9c41-1334337d1c27",
   "metadata": {},
   "outputs": [],
   "source": [
    "func=outer()"
   ]
  },
  {
   "cell_type": "code",
   "execution_count": 6,
   "id": "44b80d37-6937-4fef-84e3-168bca8c400e",
   "metadata": {},
   "outputs": [
    {
     "data": {
      "text/plain": [
       "'inner'"
      ]
     },
     "execution_count": 6,
     "metadata": {},
     "output_type": "execute_result"
    }
   ],
   "source": [
    "func.__name__"
   ]
  },
  {
   "cell_type": "code",
   "execution_count": 7,
   "id": "08f2442b-ee86-476a-aca1-54a50410d0ca",
   "metadata": {},
   "outputs": [
    {
     "name": "stdout",
     "output_type": "stream",
     "text": [
      "Lokesh\n"
     ]
    }
   ],
   "source": [
    "func()"
   ]
  },
  {
   "cell_type": "code",
   "execution_count": 8,
   "id": "777db846-1708-4013-843c-d6229eca4d78",
   "metadata": {},
   "outputs": [],
   "source": [
    "def outer(msg):\n",
    "    message=msg\n",
    "    def inner():\n",
    "        print(message)\n",
    "    return inner"
   ]
  },
  {
   "cell_type": "code",
   "execution_count": 9,
   "id": "3b39fd6a-422d-46e5-a3c2-09c626d4161b",
   "metadata": {},
   "outputs": [],
   "source": [
    "hi_func=outer('hi')\n",
    "hello_func=outer('hello')"
   ]
  },
  {
   "cell_type": "code",
   "execution_count": 10,
   "id": "55e03b66-707e-4442-8bda-1abda84ef15d",
   "metadata": {},
   "outputs": [
    {
     "name": "stdout",
     "output_type": "stream",
     "text": [
      "hi\n"
     ]
    }
   ],
   "source": [
    "hi_func()"
   ]
  },
  {
   "cell_type": "code",
   "execution_count": 11,
   "id": "6f52fcae-1ace-4cf9-a9b1-b76fcafb9728",
   "metadata": {},
   "outputs": [
    {
     "name": "stdout",
     "output_type": "stream",
     "text": [
      "hello\n"
     ]
    }
   ],
   "source": [
    "hello_func()"
   ]
  },
  {
   "cell_type": "code",
   "execution_count": 12,
   "id": "a91fab9c-7383-47c2-ae86-85b139cb7c7e",
   "metadata": {},
   "outputs": [
    {
     "name": "stdout",
     "output_type": "stream",
     "text": [
      "6\n",
      "9\n",
      "5\n",
      "10\n"
     ]
    }
   ],
   "source": [
    "\n",
    "# Closures\n",
    "\n",
    "import logging\n",
    "logging.basicConfig(filename='example.log', level=logging.INFO)\n",
    "\n",
    "\n",
    "def logger(func):\n",
    "    def log_func(*args):\n",
    "        logging.info(\n",
    "            'Running \"{}\" with arguments {}'.format(func.__name__, args))\n",
    "        print(func(*args))\n",
    "    return log_func\n",
    "\n",
    "\n",
    "def add(x, y):\n",
    "    return x+y\n",
    "\n",
    "\n",
    "def sub(x, y):\n",
    "    return x-y\n",
    "\n",
    "add_logger = logger(add)\n",
    "sub_logger = logger(sub)\n",
    "\n",
    "add_logger(3, 3)\n",
    "add_logger(4, 5)\n",
    "\n",
    "sub_logger(10, 5)\n",
    "sub_logger(20, 10) "
   ]
  },
  {
   "cell_type": "code",
   "execution_count": null,
   "id": "c2c378d1-a264-4c45-9746-52522f1e5f48",
   "metadata": {},
   "outputs": [],
   "source": []
  },
  {
   "cell_type": "code",
   "execution_count": null,
   "id": "24948258-fd7b-4a80-832d-9fb338eae52f",
   "metadata": {},
   "outputs": [],
   "source": []
  },
  {
   "cell_type": "markdown",
   "id": "c36e45a7-b74a-4543-8485-0d580bcc8287",
   "metadata": {},
   "source": [
    "## closures allows us to take advantages of first class functions and remembers and has access to the variables to the locals in which they are created"
   ]
  },
  {
   "cell_type": "code",
   "execution_count": null,
   "id": "64314f1e-83ff-42d9-9bb7-e70e4db2efb5",
   "metadata": {},
   "outputs": [],
   "source": []
  }
 ],
 "metadata": {
  "kernelspec": {
   "display_name": "Python 3 (ipykernel)",
   "language": "python",
   "name": "python3"
  },
  "language_info": {
   "codemirror_mode": {
    "name": "ipython",
    "version": 3
   },
   "file_extension": ".py",
   "mimetype": "text/x-python",
   "name": "python",
   "nbconvert_exporter": "python",
   "pygments_lexer": "ipython3",
   "version": "3.13.0"
  }
 },
 "nbformat": 4,
 "nbformat_minor": 5
}
