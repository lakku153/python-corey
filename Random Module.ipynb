{
 "cells": [
  {
   "cell_type": "code",
   "execution_count": 1,
   "id": "2b9ed9f9",
   "metadata": {},
   "outputs": [],
   "source": [
    "import random"
   ]
  },
  {
   "cell_type": "code",
   "execution_count": 4,
   "id": "ca2c7ce6",
   "metadata": {},
   "outputs": [],
   "source": [
    "value=random.random()"
   ]
  },
  {
   "cell_type": "code",
   "execution_count": 5,
   "id": "84b63d64",
   "metadata": {},
   "outputs": [
    {
     "data": {
      "text/plain": [
       "0.7512463017986516"
      ]
     },
     "execution_count": 5,
     "metadata": {},
     "output_type": "execute_result"
    }
   ],
   "source": [
    "value"
   ]
  },
  {
   "cell_type": "code",
   "execution_count": 6,
   "id": "4f6bb8ab",
   "metadata": {},
   "outputs": [],
   "source": [
    "value=random.uniform(1,10)"
   ]
  },
  {
   "cell_type": "code",
   "execution_count": 7,
   "id": "7dc8c2b9",
   "metadata": {},
   "outputs": [
    {
     "data": {
      "text/plain": [
       "4.2109359484844076"
      ]
     },
     "execution_count": 7,
     "metadata": {},
     "output_type": "execute_result"
    }
   ],
   "source": [
    "value"
   ]
  },
  {
   "cell_type": "code",
   "execution_count": 13,
   "id": "a89193af",
   "metadata": {},
   "outputs": [
    {
     "data": {
      "text/plain": [
       "1"
      ]
     },
     "execution_count": 13,
     "metadata": {},
     "output_type": "execute_result"
    }
   ],
   "source": [
    "value=random.randint(0,1)\n",
    "value"
   ]
  },
  {
   "cell_type": "code",
   "execution_count": 14,
   "id": "fcab16bf",
   "metadata": {},
   "outputs": [],
   "source": [
    "greetings=['hi','hello','good morning','hiiii']"
   ]
  },
  {
   "cell_type": "code",
   "execution_count": 20,
   "id": "1c1d7754",
   "metadata": {},
   "outputs": [
    {
     "data": {
      "text/plain": [
       "'hello'"
      ]
     },
     "execution_count": 20,
     "metadata": {},
     "output_type": "execute_result"
    }
   ],
   "source": [
    "value=random.choice(greetings)\n",
    "value"
   ]
  },
  {
   "cell_type": "code",
   "execution_count": 22,
   "id": "6222fa42",
   "metadata": {},
   "outputs": [
    {
     "data": {
      "text/plain": [
       "['red',\n",
       " 'black',\n",
       " 'red',\n",
       " 'black',\n",
       " 'red',\n",
       " 'red',\n",
       " 'black',\n",
       " 'black',\n",
       " 'blue',\n",
       " 'blue']"
      ]
     },
     "execution_count": 22,
     "metadata": {},
     "output_type": "execute_result"
    }
   ],
   "source": [
    "colors=['red','blue','black']\n",
    "value=random.choices(colors,k=10)\n",
    "value"
   ]
  },
  {
   "cell_type": "code",
   "execution_count": 23,
   "id": "cf00855c",
   "metadata": {},
   "outputs": [
    {
     "data": {
      "text/plain": [
       "['blue', 'red', 'blue', 'black', 'red', 'red', 'blue', 'blue', 'blue', 'blue']"
      ]
     },
     "execution_count": 23,
     "metadata": {},
     "output_type": "execute_result"
    }
   ],
   "source": [
    "colors=['red','blue','black']\n",
    "value=random.choices(colors,weights=[18,18,2],k=10)\n",
    "value"
   ]
  },
  {
   "cell_type": "code",
   "execution_count": 24,
   "id": "16044a55",
   "metadata": {},
   "outputs": [],
   "source": [
    "deck=list(range(1,53))"
   ]
  },
  {
   "cell_type": "code",
   "execution_count": 25,
   "id": "2569219a",
   "metadata": {},
   "outputs": [
    {
     "data": {
      "text/plain": [
       "[1,\n",
       " 2,\n",
       " 3,\n",
       " 4,\n",
       " 5,\n",
       " 6,\n",
       " 7,\n",
       " 8,\n",
       " 9,\n",
       " 10,\n",
       " 11,\n",
       " 12,\n",
       " 13,\n",
       " 14,\n",
       " 15,\n",
       " 16,\n",
       " 17,\n",
       " 18,\n",
       " 19,\n",
       " 20,\n",
       " 21,\n",
       " 22,\n",
       " 23,\n",
       " 24,\n",
       " 25,\n",
       " 26,\n",
       " 27,\n",
       " 28,\n",
       " 29,\n",
       " 30,\n",
       " 31,\n",
       " 32,\n",
       " 33,\n",
       " 34,\n",
       " 35,\n",
       " 36,\n",
       " 37,\n",
       " 38,\n",
       " 39,\n",
       " 40,\n",
       " 41,\n",
       " 42,\n",
       " 43,\n",
       " 44,\n",
       " 45,\n",
       " 46,\n",
       " 47,\n",
       " 48,\n",
       " 49,\n",
       " 50,\n",
       " 51,\n",
       " 52]"
      ]
     },
     "execution_count": 25,
     "metadata": {},
     "output_type": "execute_result"
    }
   ],
   "source": [
    "deck"
   ]
  },
  {
   "cell_type": "code",
   "execution_count": 26,
   "id": "ecb91c2f",
   "metadata": {},
   "outputs": [
    {
     "data": {
      "text/plain": [
       "[49,\n",
       " 20,\n",
       " 14,\n",
       " 40,\n",
       " 33,\n",
       " 17,\n",
       " 12,\n",
       " 10,\n",
       " 37,\n",
       " 26,\n",
       " 52,\n",
       " 32,\n",
       " 21,\n",
       " 24,\n",
       " 35,\n",
       " 11,\n",
       " 45,\n",
       " 23,\n",
       " 36,\n",
       " 44,\n",
       " 6,\n",
       " 2,\n",
       " 5,\n",
       " 46,\n",
       " 4,\n",
       " 27,\n",
       " 22,\n",
       " 38,\n",
       " 48,\n",
       " 3,\n",
       " 18,\n",
       " 47,\n",
       " 34,\n",
       " 9,\n",
       " 31,\n",
       " 29,\n",
       " 8,\n",
       " 51,\n",
       " 43,\n",
       " 7,\n",
       " 50,\n",
       " 25,\n",
       " 28,\n",
       " 30,\n",
       " 1,\n",
       " 16,\n",
       " 13,\n",
       " 42,\n",
       " 15,\n",
       " 41,\n",
       " 19,\n",
       " 39]"
      ]
     },
     "execution_count": 26,
     "metadata": {},
     "output_type": "execute_result"
    }
   ],
   "source": [
    "random.shuffle(deck)\n",
    "deck"
   ]
  },
  {
   "cell_type": "code",
   "execution_count": 43,
   "id": "f7be3293",
   "metadata": {},
   "outputs": [
    {
     "data": {
      "text/plain": [
       "[22, 7, 45, 38, 26]"
      ]
     },
     "execution_count": 43,
     "metadata": {},
     "output_type": "execute_result"
    }
   ],
   "source": [
    "deck=list(range(1,53))\n",
    "hand=random.sample(deck,k=5)\n",
    "hand"
   ]
  },
  {
   "cell_type": "code",
   "execution_count": null,
   "id": "6fad2bbe",
   "metadata": {},
   "outputs": [],
   "source": []
  }
 ],
 "metadata": {
  "kernelspec": {
   "display_name": "Python 3 (ipykernel)",
   "language": "python",
   "name": "python3"
  },
  "language_info": {
   "codemirror_mode": {
    "name": "ipython",
    "version": 3
   },
   "file_extension": ".py",
   "mimetype": "text/x-python",
   "name": "python",
   "nbconvert_exporter": "python",
   "pygments_lexer": "ipython3",
   "version": "3.10.4"
  }
 },
 "nbformat": 4,
 "nbformat_minor": 5
}
