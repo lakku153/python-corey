{
 "cells": [
  {
   "cell_type": "code",
   "execution_count": 20,
   "id": "ef06f189",
   "metadata": {},
   "outputs": [],
   "source": [
    "import re"
   ]
  },
  {
   "cell_type": "code",
   "execution_count": 21,
   "id": "1688e7d4",
   "metadata": {},
   "outputs": [],
   "source": [
    "text_to_Search='''abcdefghijklmnopqurtuvwxyz\n",
    "ABCDEFGHIJKLMNOPQRSTUVWXYZ\n",
    "1234567890\n",
    "\n",
    "Ha HaHa\n",
    "\n",
    "MetaCharacters (Need to be escaped):\n",
    ".[{()\\^$|?*+\n",
    "\n",
    "coreyms.com\n",
    "\n",
    "321-555-4321\n",
    "123.555.1234\n",
    "\n",
    "Mr. Schafer\n",
    "Mr Smith\n",
    "Ms Davis\n",
    "Mrs. Robinson\n",
    "Mr. T\n",
    "'''\n",
    "\n",
    "sentence = 'Start a sentence and then bring it to an end'\n"
   ]
  },
  {
   "cell_type": "code",
   "execution_count": 22,
   "id": "9b024207",
   "metadata": {},
   "outputs": [
    {
     "name": "stdout",
     "output_type": "stream",
     "text": [
      "\\t hello\n"
     ]
    }
   ],
   "source": [
    "print(r'\\t hello')   # here r represents the raw strings"
   ]
  },
  {
   "cell_type": "code",
   "execution_count": 23,
   "id": "4fb008a5",
   "metadata": {},
   "outputs": [],
   "source": [
    "pattern=re.compile(r'abc')         #case sensitive"
   ]
  },
  {
   "cell_type": "code",
   "execution_count": 24,
   "id": "ffb8c2a4",
   "metadata": {},
   "outputs": [],
   "source": [
    "matches=pattern.finditer(text_to_Search)"
   ]
  },
  {
   "cell_type": "code",
   "execution_count": 25,
   "id": "4615edd6",
   "metadata": {},
   "outputs": [
    {
     "name": "stdout",
     "output_type": "stream",
     "text": [
      "<re.Match object; span=(0, 3), match='abc'>\n"
     ]
    }
   ],
   "source": [
    "for match in matches:\n",
    "    print(match)"
   ]
  },
  {
   "cell_type": "code",
   "execution_count": 26,
   "id": "814cd32e",
   "metadata": {},
   "outputs": [
    {
     "data": {
      "text/plain": [
       "'abc'"
      ]
     },
     "execution_count": 26,
     "metadata": {},
     "output_type": "execute_result"
    }
   ],
   "source": [
    "text_to_Search[0:3]"
   ]
  },
  {
   "cell_type": "code",
   "execution_count": 27,
   "id": "a8ad10ea",
   "metadata": {},
   "outputs": [
    {
     "name": "stdout",
     "output_type": "stream",
     "text": [
      "<re.Match object; span=(0, 1), match='a'>\n",
      "<re.Match object; span=(1, 2), match='b'>\n",
      "<re.Match object; span=(2, 3), match='c'>\n",
      "<re.Match object; span=(3, 4), match='d'>\n",
      "<re.Match object; span=(4, 5), match='e'>\n",
      "<re.Match object; span=(5, 6), match='f'>\n",
      "<re.Match object; span=(6, 7), match='g'>\n",
      "<re.Match object; span=(7, 8), match='h'>\n",
      "<re.Match object; span=(8, 9), match='i'>\n",
      "<re.Match object; span=(9, 10), match='j'>\n",
      "<re.Match object; span=(10, 11), match='k'>\n",
      "<re.Match object; span=(11, 12), match='l'>\n",
      "<re.Match object; span=(12, 13), match='m'>\n",
      "<re.Match object; span=(13, 14), match='n'>\n",
      "<re.Match object; span=(14, 15), match='o'>\n",
      "<re.Match object; span=(15, 16), match='p'>\n",
      "<re.Match object; span=(16, 17), match='q'>\n",
      "<re.Match object; span=(17, 18), match='u'>\n",
      "<re.Match object; span=(18, 19), match='r'>\n",
      "<re.Match object; span=(19, 20), match='t'>\n",
      "<re.Match object; span=(20, 21), match='u'>\n",
      "<re.Match object; span=(21, 22), match='v'>\n",
      "<re.Match object; span=(22, 23), match='w'>\n",
      "<re.Match object; span=(23, 24), match='x'>\n",
      "<re.Match object; span=(24, 25), match='y'>\n",
      "<re.Match object; span=(25, 26), match='z'>\n",
      "<re.Match object; span=(27, 28), match='A'>\n",
      "<re.Match object; span=(28, 29), match='B'>\n",
      "<re.Match object; span=(29, 30), match='C'>\n",
      "<re.Match object; span=(30, 31), match='D'>\n",
      "<re.Match object; span=(31, 32), match='E'>\n",
      "<re.Match object; span=(32, 33), match='F'>\n",
      "<re.Match object; span=(33, 34), match='G'>\n",
      "<re.Match object; span=(34, 35), match='H'>\n",
      "<re.Match object; span=(35, 36), match='I'>\n",
      "<re.Match object; span=(36, 37), match='J'>\n",
      "<re.Match object; span=(37, 38), match='K'>\n",
      "<re.Match object; span=(38, 39), match='L'>\n",
      "<re.Match object; span=(39, 40), match='M'>\n",
      "<re.Match object; span=(40, 41), match='N'>\n",
      "<re.Match object; span=(41, 42), match='O'>\n",
      "<re.Match object; span=(42, 43), match='P'>\n",
      "<re.Match object; span=(43, 44), match='Q'>\n",
      "<re.Match object; span=(44, 45), match='R'>\n",
      "<re.Match object; span=(45, 46), match='S'>\n",
      "<re.Match object; span=(46, 47), match='T'>\n",
      "<re.Match object; span=(47, 48), match='U'>\n",
      "<re.Match object; span=(48, 49), match='V'>\n",
      "<re.Match object; span=(49, 50), match='W'>\n",
      "<re.Match object; span=(50, 51), match='X'>\n",
      "<re.Match object; span=(51, 52), match='Y'>\n",
      "<re.Match object; span=(52, 53), match='Z'>\n",
      "<re.Match object; span=(54, 55), match='1'>\n",
      "<re.Match object; span=(55, 56), match='2'>\n",
      "<re.Match object; span=(56, 57), match='3'>\n",
      "<re.Match object; span=(57, 58), match='4'>\n",
      "<re.Match object; span=(58, 59), match='5'>\n",
      "<re.Match object; span=(59, 60), match='6'>\n",
      "<re.Match object; span=(60, 61), match='7'>\n",
      "<re.Match object; span=(61, 62), match='8'>\n",
      "<re.Match object; span=(62, 63), match='9'>\n",
      "<re.Match object; span=(63, 64), match='0'>\n",
      "<re.Match object; span=(66, 67), match='H'>\n",
      "<re.Match object; span=(67, 68), match='a'>\n",
      "<re.Match object; span=(68, 69), match=' '>\n",
      "<re.Match object; span=(69, 70), match='H'>\n",
      "<re.Match object; span=(70, 71), match='a'>\n",
      "<re.Match object; span=(71, 72), match='H'>\n",
      "<re.Match object; span=(72, 73), match='a'>\n",
      "<re.Match object; span=(75, 76), match='M'>\n",
      "<re.Match object; span=(76, 77), match='e'>\n",
      "<re.Match object; span=(77, 78), match='t'>\n",
      "<re.Match object; span=(78, 79), match='a'>\n",
      "<re.Match object; span=(79, 80), match='C'>\n",
      "<re.Match object; span=(80, 81), match='h'>\n",
      "<re.Match object; span=(81, 82), match='a'>\n",
      "<re.Match object; span=(82, 83), match='r'>\n",
      "<re.Match object; span=(83, 84), match='a'>\n",
      "<re.Match object; span=(84, 85), match='c'>\n",
      "<re.Match object; span=(85, 86), match='t'>\n",
      "<re.Match object; span=(86, 87), match='e'>\n",
      "<re.Match object; span=(87, 88), match='r'>\n",
      "<re.Match object; span=(88, 89), match='s'>\n",
      "<re.Match object; span=(89, 90), match=' '>\n",
      "<re.Match object; span=(90, 91), match='('>\n",
      "<re.Match object; span=(91, 92), match='N'>\n",
      "<re.Match object; span=(92, 93), match='e'>\n",
      "<re.Match object; span=(93, 94), match='e'>\n",
      "<re.Match object; span=(94, 95), match='d'>\n",
      "<re.Match object; span=(95, 96), match=' '>\n",
      "<re.Match object; span=(96, 97), match='t'>\n",
      "<re.Match object; span=(97, 98), match='o'>\n",
      "<re.Match object; span=(98, 99), match=' '>\n",
      "<re.Match object; span=(99, 100), match='b'>\n",
      "<re.Match object; span=(100, 101), match='e'>\n",
      "<re.Match object; span=(101, 102), match=' '>\n",
      "<re.Match object; span=(102, 103), match='e'>\n",
      "<re.Match object; span=(103, 104), match='s'>\n",
      "<re.Match object; span=(104, 105), match='c'>\n",
      "<re.Match object; span=(105, 106), match='a'>\n",
      "<re.Match object; span=(106, 107), match='p'>\n",
      "<re.Match object; span=(107, 108), match='e'>\n",
      "<re.Match object; span=(108, 109), match='d'>\n",
      "<re.Match object; span=(109, 110), match=')'>\n",
      "<re.Match object; span=(110, 111), match=':'>\n",
      "<re.Match object; span=(112, 113), match='.'>\n",
      "<re.Match object; span=(113, 114), match='['>\n",
      "<re.Match object; span=(114, 115), match='{'>\n",
      "<re.Match object; span=(115, 116), match='('>\n",
      "<re.Match object; span=(116, 117), match=')'>\n",
      "<re.Match object; span=(117, 118), match='\\\\'>\n",
      "<re.Match object; span=(118, 119), match='^'>\n",
      "<re.Match object; span=(119, 120), match='$'>\n",
      "<re.Match object; span=(120, 121), match='|'>\n",
      "<re.Match object; span=(121, 122), match='?'>\n",
      "<re.Match object; span=(122, 123), match='*'>\n",
      "<re.Match object; span=(123, 124), match='+'>\n",
      "<re.Match object; span=(126, 127), match='c'>\n",
      "<re.Match object; span=(127, 128), match='o'>\n",
      "<re.Match object; span=(128, 129), match='r'>\n",
      "<re.Match object; span=(129, 130), match='e'>\n",
      "<re.Match object; span=(130, 131), match='y'>\n",
      "<re.Match object; span=(131, 132), match='m'>\n",
      "<re.Match object; span=(132, 133), match='s'>\n",
      "<re.Match object; span=(133, 134), match='.'>\n",
      "<re.Match object; span=(134, 135), match='c'>\n",
      "<re.Match object; span=(135, 136), match='o'>\n",
      "<re.Match object; span=(136, 137), match='m'>\n",
      "<re.Match object; span=(139, 140), match='3'>\n",
      "<re.Match object; span=(140, 141), match='2'>\n",
      "<re.Match object; span=(141, 142), match='1'>\n",
      "<re.Match object; span=(142, 143), match='-'>\n",
      "<re.Match object; span=(143, 144), match='5'>\n",
      "<re.Match object; span=(144, 145), match='5'>\n",
      "<re.Match object; span=(145, 146), match='5'>\n",
      "<re.Match object; span=(146, 147), match='-'>\n",
      "<re.Match object; span=(147, 148), match='4'>\n",
      "<re.Match object; span=(148, 149), match='3'>\n",
      "<re.Match object; span=(149, 150), match='2'>\n",
      "<re.Match object; span=(150, 151), match='1'>\n",
      "<re.Match object; span=(152, 153), match='1'>\n",
      "<re.Match object; span=(153, 154), match='2'>\n",
      "<re.Match object; span=(154, 155), match='3'>\n",
      "<re.Match object; span=(155, 156), match='.'>\n",
      "<re.Match object; span=(156, 157), match='5'>\n",
      "<re.Match object; span=(157, 158), match='5'>\n",
      "<re.Match object; span=(158, 159), match='5'>\n",
      "<re.Match object; span=(159, 160), match='.'>\n",
      "<re.Match object; span=(160, 161), match='1'>\n",
      "<re.Match object; span=(161, 162), match='2'>\n",
      "<re.Match object; span=(162, 163), match='3'>\n",
      "<re.Match object; span=(163, 164), match='4'>\n",
      "<re.Match object; span=(166, 167), match='M'>\n",
      "<re.Match object; span=(167, 168), match='r'>\n",
      "<re.Match object; span=(168, 169), match='.'>\n",
      "<re.Match object; span=(169, 170), match=' '>\n",
      "<re.Match object; span=(170, 171), match='S'>\n",
      "<re.Match object; span=(171, 172), match='c'>\n",
      "<re.Match object; span=(172, 173), match='h'>\n",
      "<re.Match object; span=(173, 174), match='a'>\n",
      "<re.Match object; span=(174, 175), match='f'>\n",
      "<re.Match object; span=(175, 176), match='e'>\n",
      "<re.Match object; span=(176, 177), match='r'>\n",
      "<re.Match object; span=(178, 179), match='M'>\n",
      "<re.Match object; span=(179, 180), match='r'>\n",
      "<re.Match object; span=(180, 181), match=' '>\n",
      "<re.Match object; span=(181, 182), match='S'>\n",
      "<re.Match object; span=(182, 183), match='m'>\n",
      "<re.Match object; span=(183, 184), match='i'>\n",
      "<re.Match object; span=(184, 185), match='t'>\n",
      "<re.Match object; span=(185, 186), match='h'>\n",
      "<re.Match object; span=(187, 188), match='M'>\n",
      "<re.Match object; span=(188, 189), match='s'>\n",
      "<re.Match object; span=(189, 190), match=' '>\n",
      "<re.Match object; span=(190, 191), match='D'>\n",
      "<re.Match object; span=(191, 192), match='a'>\n",
      "<re.Match object; span=(192, 193), match='v'>\n",
      "<re.Match object; span=(193, 194), match='i'>\n",
      "<re.Match object; span=(194, 195), match='s'>\n",
      "<re.Match object; span=(196, 197), match='M'>\n",
      "<re.Match object; span=(197, 198), match='r'>\n",
      "<re.Match object; span=(198, 199), match='s'>\n",
      "<re.Match object; span=(199, 200), match='.'>\n",
      "<re.Match object; span=(200, 201), match=' '>\n",
      "<re.Match object; span=(201, 202), match='R'>\n",
      "<re.Match object; span=(202, 203), match='o'>\n",
      "<re.Match object; span=(203, 204), match='b'>\n",
      "<re.Match object; span=(204, 205), match='i'>\n",
      "<re.Match object; span=(205, 206), match='n'>\n",
      "<re.Match object; span=(206, 207), match='s'>\n",
      "<re.Match object; span=(207, 208), match='o'>\n",
      "<re.Match object; span=(208, 209), match='n'>\n",
      "<re.Match object; span=(210, 211), match='M'>\n",
      "<re.Match object; span=(211, 212), match='r'>\n",
      "<re.Match object; span=(212, 213), match='.'>\n",
      "<re.Match object; span=(213, 214), match=' '>\n",
      "<re.Match object; span=(214, 215), match='T'>\n"
     ]
    }
   ],
   "source": [
    "pattern=re.compile(r'.') \n",
    "matches=pattern.finditer(text_to_Search)\n",
    "for match in matches:\n",
    "    print(match)"
   ]
  },
  {
   "cell_type": "code",
   "execution_count": 32,
   "id": "fa22e5c3",
   "metadata": {},
   "outputs": [
    {
     "name": "stdout",
     "output_type": "stream",
     "text": [
      "<re.Match object; span=(126, 137), match='coreyms.com'>\n"
     ]
    }
   ],
   "source": [
    "pattern=re.compile(r'coreyms.com') \n",
    "matches=pattern.finditer(text_to_Search)\n",
    "for match in matches:\n",
    "    print(match)"
   ]
  },
  {
   "cell_type": "code",
   "execution_count": 34,
   "id": "3c6d6dd9",
   "metadata": {},
   "outputs": [
    {
     "name": "stdout",
     "output_type": "stream",
     "text": [
      "<re.Match object; span=(54, 55), match='1'>\n",
      "<re.Match object; span=(55, 56), match='2'>\n",
      "<re.Match object; span=(56, 57), match='3'>\n",
      "<re.Match object; span=(57, 58), match='4'>\n",
      "<re.Match object; span=(58, 59), match='5'>\n",
      "<re.Match object; span=(59, 60), match='6'>\n",
      "<re.Match object; span=(60, 61), match='7'>\n",
      "<re.Match object; span=(61, 62), match='8'>\n",
      "<re.Match object; span=(62, 63), match='9'>\n",
      "<re.Match object; span=(63, 64), match='0'>\n",
      "<re.Match object; span=(139, 140), match='3'>\n",
      "<re.Match object; span=(140, 141), match='2'>\n",
      "<re.Match object; span=(141, 142), match='1'>\n",
      "<re.Match object; span=(143, 144), match='5'>\n",
      "<re.Match object; span=(144, 145), match='5'>\n",
      "<re.Match object; span=(145, 146), match='5'>\n",
      "<re.Match object; span=(147, 148), match='4'>\n",
      "<re.Match object; span=(148, 149), match='3'>\n",
      "<re.Match object; span=(149, 150), match='2'>\n",
      "<re.Match object; span=(150, 151), match='1'>\n",
      "<re.Match object; span=(152, 153), match='1'>\n",
      "<re.Match object; span=(153, 154), match='2'>\n",
      "<re.Match object; span=(154, 155), match='3'>\n",
      "<re.Match object; span=(156, 157), match='5'>\n",
      "<re.Match object; span=(157, 158), match='5'>\n",
      "<re.Match object; span=(158, 159), match='5'>\n",
      "<re.Match object; span=(160, 161), match='1'>\n",
      "<re.Match object; span=(161, 162), match='2'>\n",
      "<re.Match object; span=(162, 163), match='3'>\n",
      "<re.Match object; span=(163, 164), match='4'>\n"
     ]
    }
   ],
   "source": [
    "pattern=re.compile(r'\\d')             #all digits\n",
    "matches=pattern.finditer(text_to_Search)\n",
    "for match in matches:\n",
    "    print(match)"
   ]
  },
  {
   "cell_type": "code",
   "execution_count": 36,
   "id": "57c5de93",
   "metadata": {},
   "outputs": [
    {
     "name": "stdout",
     "output_type": "stream",
     "text": [
      "<re.Match object; span=(0, 1), match='a'>\n",
      "<re.Match object; span=(1, 2), match='b'>\n",
      "<re.Match object; span=(2, 3), match='c'>\n",
      "<re.Match object; span=(3, 4), match='d'>\n",
      "<re.Match object; span=(4, 5), match='e'>\n",
      "<re.Match object; span=(5, 6), match='f'>\n",
      "<re.Match object; span=(6, 7), match='g'>\n",
      "<re.Match object; span=(7, 8), match='h'>\n",
      "<re.Match object; span=(8, 9), match='i'>\n",
      "<re.Match object; span=(9, 10), match='j'>\n",
      "<re.Match object; span=(10, 11), match='k'>\n",
      "<re.Match object; span=(11, 12), match='l'>\n",
      "<re.Match object; span=(12, 13), match='m'>\n",
      "<re.Match object; span=(13, 14), match='n'>\n",
      "<re.Match object; span=(14, 15), match='o'>\n",
      "<re.Match object; span=(15, 16), match='p'>\n",
      "<re.Match object; span=(16, 17), match='q'>\n",
      "<re.Match object; span=(17, 18), match='u'>\n",
      "<re.Match object; span=(18, 19), match='r'>\n",
      "<re.Match object; span=(19, 20), match='t'>\n",
      "<re.Match object; span=(20, 21), match='u'>\n",
      "<re.Match object; span=(21, 22), match='v'>\n",
      "<re.Match object; span=(22, 23), match='w'>\n",
      "<re.Match object; span=(23, 24), match='x'>\n",
      "<re.Match object; span=(24, 25), match='y'>\n",
      "<re.Match object; span=(25, 26), match='z'>\n",
      "<re.Match object; span=(27, 28), match='A'>\n",
      "<re.Match object; span=(28, 29), match='B'>\n",
      "<re.Match object; span=(29, 30), match='C'>\n",
      "<re.Match object; span=(30, 31), match='D'>\n",
      "<re.Match object; span=(31, 32), match='E'>\n",
      "<re.Match object; span=(32, 33), match='F'>\n",
      "<re.Match object; span=(33, 34), match='G'>\n",
      "<re.Match object; span=(34, 35), match='H'>\n",
      "<re.Match object; span=(35, 36), match='I'>\n",
      "<re.Match object; span=(36, 37), match='J'>\n",
      "<re.Match object; span=(37, 38), match='K'>\n",
      "<re.Match object; span=(38, 39), match='L'>\n",
      "<re.Match object; span=(39, 40), match='M'>\n",
      "<re.Match object; span=(40, 41), match='N'>\n",
      "<re.Match object; span=(41, 42), match='O'>\n",
      "<re.Match object; span=(42, 43), match='P'>\n",
      "<re.Match object; span=(43, 44), match='Q'>\n",
      "<re.Match object; span=(44, 45), match='R'>\n",
      "<re.Match object; span=(45, 46), match='S'>\n",
      "<re.Match object; span=(46, 47), match='T'>\n",
      "<re.Match object; span=(47, 48), match='U'>\n",
      "<re.Match object; span=(48, 49), match='V'>\n",
      "<re.Match object; span=(49, 50), match='W'>\n",
      "<re.Match object; span=(50, 51), match='X'>\n",
      "<re.Match object; span=(51, 52), match='Y'>\n",
      "<re.Match object; span=(52, 53), match='Z'>\n",
      "<re.Match object; span=(54, 55), match='1'>\n",
      "<re.Match object; span=(55, 56), match='2'>\n",
      "<re.Match object; span=(56, 57), match='3'>\n",
      "<re.Match object; span=(57, 58), match='4'>\n",
      "<re.Match object; span=(58, 59), match='5'>\n",
      "<re.Match object; span=(59, 60), match='6'>\n",
      "<re.Match object; span=(60, 61), match='7'>\n",
      "<re.Match object; span=(61, 62), match='8'>\n",
      "<re.Match object; span=(62, 63), match='9'>\n",
      "<re.Match object; span=(63, 64), match='0'>\n",
      "<re.Match object; span=(66, 67), match='H'>\n",
      "<re.Match object; span=(67, 68), match='a'>\n",
      "<re.Match object; span=(69, 70), match='H'>\n",
      "<re.Match object; span=(70, 71), match='a'>\n",
      "<re.Match object; span=(71, 72), match='H'>\n",
      "<re.Match object; span=(72, 73), match='a'>\n",
      "<re.Match object; span=(75, 76), match='M'>\n",
      "<re.Match object; span=(76, 77), match='e'>\n",
      "<re.Match object; span=(77, 78), match='t'>\n",
      "<re.Match object; span=(78, 79), match='a'>\n",
      "<re.Match object; span=(79, 80), match='C'>\n",
      "<re.Match object; span=(80, 81), match='h'>\n",
      "<re.Match object; span=(81, 82), match='a'>\n",
      "<re.Match object; span=(82, 83), match='r'>\n",
      "<re.Match object; span=(83, 84), match='a'>\n",
      "<re.Match object; span=(84, 85), match='c'>\n",
      "<re.Match object; span=(85, 86), match='t'>\n",
      "<re.Match object; span=(86, 87), match='e'>\n",
      "<re.Match object; span=(87, 88), match='r'>\n",
      "<re.Match object; span=(88, 89), match='s'>\n",
      "<re.Match object; span=(91, 92), match='N'>\n",
      "<re.Match object; span=(92, 93), match='e'>\n",
      "<re.Match object; span=(93, 94), match='e'>\n",
      "<re.Match object; span=(94, 95), match='d'>\n",
      "<re.Match object; span=(96, 97), match='t'>\n",
      "<re.Match object; span=(97, 98), match='o'>\n",
      "<re.Match object; span=(99, 100), match='b'>\n",
      "<re.Match object; span=(100, 101), match='e'>\n",
      "<re.Match object; span=(102, 103), match='e'>\n",
      "<re.Match object; span=(103, 104), match='s'>\n",
      "<re.Match object; span=(104, 105), match='c'>\n",
      "<re.Match object; span=(105, 106), match='a'>\n",
      "<re.Match object; span=(106, 107), match='p'>\n",
      "<re.Match object; span=(107, 108), match='e'>\n",
      "<re.Match object; span=(108, 109), match='d'>\n",
      "<re.Match object; span=(126, 127), match='c'>\n",
      "<re.Match object; span=(127, 128), match='o'>\n",
      "<re.Match object; span=(128, 129), match='r'>\n",
      "<re.Match object; span=(129, 130), match='e'>\n",
      "<re.Match object; span=(130, 131), match='y'>\n",
      "<re.Match object; span=(131, 132), match='m'>\n",
      "<re.Match object; span=(132, 133), match='s'>\n",
      "<re.Match object; span=(134, 135), match='c'>\n",
      "<re.Match object; span=(135, 136), match='o'>\n",
      "<re.Match object; span=(136, 137), match='m'>\n",
      "<re.Match object; span=(139, 140), match='3'>\n",
      "<re.Match object; span=(140, 141), match='2'>\n",
      "<re.Match object; span=(141, 142), match='1'>\n",
      "<re.Match object; span=(143, 144), match='5'>\n",
      "<re.Match object; span=(144, 145), match='5'>\n",
      "<re.Match object; span=(145, 146), match='5'>\n",
      "<re.Match object; span=(147, 148), match='4'>\n",
      "<re.Match object; span=(148, 149), match='3'>\n",
      "<re.Match object; span=(149, 150), match='2'>\n",
      "<re.Match object; span=(150, 151), match='1'>\n",
      "<re.Match object; span=(152, 153), match='1'>\n",
      "<re.Match object; span=(153, 154), match='2'>\n",
      "<re.Match object; span=(154, 155), match='3'>\n",
      "<re.Match object; span=(156, 157), match='5'>\n",
      "<re.Match object; span=(157, 158), match='5'>\n",
      "<re.Match object; span=(158, 159), match='5'>\n",
      "<re.Match object; span=(160, 161), match='1'>\n",
      "<re.Match object; span=(161, 162), match='2'>\n",
      "<re.Match object; span=(162, 163), match='3'>\n",
      "<re.Match object; span=(163, 164), match='4'>\n",
      "<re.Match object; span=(166, 167), match='M'>\n",
      "<re.Match object; span=(167, 168), match='r'>\n",
      "<re.Match object; span=(170, 171), match='S'>\n",
      "<re.Match object; span=(171, 172), match='c'>\n",
      "<re.Match object; span=(172, 173), match='h'>\n",
      "<re.Match object; span=(173, 174), match='a'>\n",
      "<re.Match object; span=(174, 175), match='f'>\n",
      "<re.Match object; span=(175, 176), match='e'>\n",
      "<re.Match object; span=(176, 177), match='r'>\n",
      "<re.Match object; span=(178, 179), match='M'>\n",
      "<re.Match object; span=(179, 180), match='r'>\n",
      "<re.Match object; span=(181, 182), match='S'>\n",
      "<re.Match object; span=(182, 183), match='m'>\n",
      "<re.Match object; span=(183, 184), match='i'>\n",
      "<re.Match object; span=(184, 185), match='t'>\n",
      "<re.Match object; span=(185, 186), match='h'>\n",
      "<re.Match object; span=(187, 188), match='M'>\n",
      "<re.Match object; span=(188, 189), match='s'>\n",
      "<re.Match object; span=(190, 191), match='D'>\n",
      "<re.Match object; span=(191, 192), match='a'>\n",
      "<re.Match object; span=(192, 193), match='v'>\n",
      "<re.Match object; span=(193, 194), match='i'>\n",
      "<re.Match object; span=(194, 195), match='s'>\n",
      "<re.Match object; span=(196, 197), match='M'>\n",
      "<re.Match object; span=(197, 198), match='r'>\n",
      "<re.Match object; span=(198, 199), match='s'>\n",
      "<re.Match object; span=(201, 202), match='R'>\n",
      "<re.Match object; span=(202, 203), match='o'>\n",
      "<re.Match object; span=(203, 204), match='b'>\n",
      "<re.Match object; span=(204, 205), match='i'>\n",
      "<re.Match object; span=(205, 206), match='n'>\n",
      "<re.Match object; span=(206, 207), match='s'>\n",
      "<re.Match object; span=(207, 208), match='o'>\n",
      "<re.Match object; span=(208, 209), match='n'>\n",
      "<re.Match object; span=(210, 211), match='M'>\n",
      "<re.Match object; span=(211, 212), match='r'>\n",
      "<re.Match object; span=(214, 215), match='T'>\n"
     ]
    }
   ],
   "source": [
    "pattern=re.compile(r'\\w') \n",
    "matches=pattern.finditer(text_to_Search)\n",
    "for match in matches:\n",
    "    print(match)"
   ]
  },
  {
   "cell_type": "code",
   "execution_count": 37,
   "id": "36338fa9",
   "metadata": {},
   "outputs": [
    {
     "name": "stdout",
     "output_type": "stream",
     "text": [
      "<re.Match object; span=(66, 68), match='Ha'>\n",
      "<re.Match object; span=(69, 71), match='Ha'>\n"
     ]
    }
   ],
   "source": [
    "pattern=re.compile(r'\\bHa') \n",
    "matches=pattern.finditer(text_to_Search)\n",
    "for match in matches:\n",
    "    print(match)"
   ]
  },
  {
   "cell_type": "markdown",
   "id": "7bdf5fc2",
   "metadata": {},
   "source": [
    "#### output     \n",
    "<u> Ha Ha</u>Ha"
   ]
  },
  {
   "cell_type": "code",
   "execution_count": 41,
   "id": "dc476647",
   "metadata": {},
   "outputs": [
    {
     "name": "stdout",
     "output_type": "stream",
     "text": [
      "<re.Match object; span=(71, 73), match='Ha'>\n"
     ]
    }
   ],
   "source": [
    "pattern=re.compile(r'\\BHa') \n",
    "matches=pattern.finditer(text_to_Search)\n",
    "for match in matches:\n",
    "    print(match)"
   ]
  },
  {
   "cell_type": "markdown",
   "id": "a483d9bd",
   "metadata": {},
   "source": [
    "o/p:   Ha Ha<u>Ha</u>"
   ]
  },
  {
   "cell_type": "code",
   "execution_count": 42,
   "id": "45a46746",
   "metadata": {},
   "outputs": [
    {
     "name": "stdout",
     "output_type": "stream",
     "text": [
      "<re.Match object; span=(0, 5), match='Start'>\n"
     ]
    }
   ],
   "source": [
    "pattern=re.compile(r'^Start') \n",
    "matches=pattern.finditer(sentence)\n",
    "for match in matches:\n",
    "    print(match)"
   ]
  },
  {
   "cell_type": "code",
   "execution_count": 43,
   "id": "d59f0206",
   "metadata": {},
   "outputs": [],
   "source": [
    "pattern=re.compile(r'^Starggt') \n",
    "matches=pattern.finditer(sentence)\n",
    "for match in matches:\n",
    "    print(match)"
   ]
  },
  {
   "cell_type": "code",
   "execution_count": 45,
   "id": "a668faee",
   "metadata": {},
   "outputs": [
    {
     "name": "stdout",
     "output_type": "stream",
     "text": [
      "<re.Match object; span=(41, 44), match='end'>\n"
     ]
    }
   ],
   "source": [
    "pattern=re.compile(r'end$') \n",
    "matches=pattern.finditer(sentence)\n",
    "for match in matches:\n",
    "    print(match)"
   ]
  },
  {
   "cell_type": "code",
   "execution_count": 46,
   "id": "d2dda4ba",
   "metadata": {},
   "outputs": [],
   "source": [
    "pattern=re.compile(r'art$') \n",
    "matches=pattern.finditer(sentence)\n",
    "for match in matches:\n",
    "    print(match)"
   ]
  },
  {
   "cell_type": "code",
   "execution_count": 48,
   "id": "ba355971",
   "metadata": {},
   "outputs": [
    {
     "name": "stdout",
     "output_type": "stream",
     "text": [
      "<re.Match object; span=(139, 151), match='321-555-4321'>\n",
      "<re.Match object; span=(152, 164), match='123.555.1234'>\n"
     ]
    }
   ],
   "source": [
    "pattern=re.compile(r'\\d\\d\\d.\\d\\d\\d.\\d\\d\\d\\d') \n",
    "matches=pattern.finditer(text_to_Search)\n",
    "for match in matches:\n",
    "    print(match)"
   ]
  },
  {
   "cell_type": "code",
   "execution_count": 50,
   "id": "6e66818a",
   "metadata": {},
   "outputs": [
    {
     "name": "stdout",
     "output_type": "stream",
     "text": [
      "<re.Match object; span=(12, 24), match='615-555-7164'>\n",
      "<re.Match object; span=(102, 114), match='800-555-5669'>\n",
      "<re.Match object; span=(191, 203), match='560-555-5153'>\n",
      "<re.Match object; span=(281, 293), match='900-555-9340'>\n",
      "<re.Match object; span=(378, 390), match='714-555-7405'>\n",
      "<re.Match object; span=(467, 479), match='800-555-6771'>\n",
      "<re.Match object; span=(557, 569), match='783-555-4799'>\n",
      "<re.Match object; span=(647, 659), match='516-555-4615'>\n",
      "<re.Match object; span=(740, 752), match='127-555-1867'>\n",
      "<re.Match object; span=(831, 843), match='608-555-4938'>\n",
      "<re.Match object; span=(917, 929), match='568-555-6051'>\n",
      "<re.Match object; span=(1005, 1017), match='292-555-1875'>\n",
      "<re.Match object; span=(1093, 1105), match='900-555-3205'>\n",
      "<re.Match object; span=(1182, 1194), match='614-555-1166'>\n",
      "<re.Match object; span=(1273, 1285), match='530-555-2676'>\n",
      "<re.Match object; span=(1359, 1371), match='470-555-2750'>\n",
      "<re.Match object; span=(1443, 1455), match='800-555-6089'>\n",
      "<re.Match object; span=(1530, 1542), match='880-555-8319'>\n",
      "<re.Match object; span=(1618, 1630), match='777-555-8378'>\n",
      "<re.Match object; span=(1701, 1713), match='998-555-7385'>\n",
      "<re.Match object; span=(1794, 1806), match='800-555-7100'>\n",
      "<re.Match object; span=(1878, 1890), match='903-555-8277'>\n",
      "<re.Match object; span=(1966, 1978), match='196-555-5674'>\n",
      "<re.Match object; span=(2055, 2067), match='900-555-5118'>\n",
      "<re.Match object; span=(2139, 2151), match='905-555-1630'>\n",
      "<re.Match object; span=(2220, 2232), match='203-555-3475'>\n",
      "<re.Match object; span=(2304, 2316), match='884-555-8444'>\n",
      "<re.Match object; span=(2391, 2403), match='904-555-8559'>\n",
      "<re.Match object; span=(2479, 2491), match='889-555-7393'>\n",
      "<re.Match object; span=(2566, 2578), match='195-555-2405'>\n",
      "<re.Match object; span=(2651, 2663), match='321-555-9053'>\n",
      "<re.Match object; span=(2738, 2750), match='133-555-1711'>\n",
      "<re.Match object; span=(2830, 2842), match='900-555-5428'>\n",
      "<re.Match object; span=(2919, 2931), match='760-555-7147'>\n",
      "<re.Match object; span=(3018, 3030), match='391-555-6621'>\n",
      "<re.Match object; span=(3109, 3121), match='932-555-7724'>\n",
      "<re.Match object; span=(3198, 3210), match='609-555-7908'>\n",
      "<re.Match object; span=(3290, 3302), match='800-555-8810'>\n",
      "<re.Match object; span=(3378, 3390), match='149-555-7657'>\n",
      "<re.Match object; span=(3458, 3470), match='130-555-9709'>\n",
      "<re.Match object; span=(3541, 3553), match='143-555-9295'>\n",
      "<re.Match object; span=(3630, 3642), match='903-555-9878'>\n",
      "<re.Match object; span=(3720, 3732), match='574-555-3194'>\n",
      "<re.Match object; span=(3808, 3820), match='496-555-7533'>\n",
      "<re.Match object; span=(3893, 3905), match='210-555-3757'>\n",
      "<re.Match object; span=(3977, 3989), match='900-555-9598'>\n",
      "<re.Match object; span=(4062, 4074), match='866-555-9844'>\n",
      "<re.Match object; span=(4146, 4158), match='669-555-7159'>\n",
      "<re.Match object; span=(4231, 4243), match='152-555-7417'>\n",
      "<re.Match object; span=(4323, 4335), match='893-555-9832'>\n",
      "<re.Match object; span=(4413, 4425), match='217-555-7123'>\n",
      "<re.Match object; span=(4504, 4516), match='786-555-6544'>\n",
      "<re.Match object; span=(4594, 4606), match='780-555-2574'>\n",
      "<re.Match object; span=(4682, 4694), match='926-555-8735'>\n",
      "<re.Match object; span=(4768, 4780), match='895-555-3539'>\n",
      "<re.Match object; span=(4865, 4877), match='874-555-3949'>\n",
      "<re.Match object; span=(4951, 4963), match='800-555-2420'>\n",
      "<re.Match object; span=(5040, 5052), match='936-555-6340'>\n",
      "<re.Match object; span=(5129, 5141), match='372-555-9809'>\n",
      "<re.Match object; span=(5216, 5228), match='890-555-5618'>\n",
      "<re.Match object; span=(5298, 5310), match='670-555-3005'>\n",
      "<re.Match object; span=(5388, 5400), match='509-555-5997'>\n",
      "<re.Match object; span=(5481, 5493), match='721-555-5632'>\n",
      "<re.Match object; span=(5572, 5584), match='900-555-3567'>\n",
      "<re.Match object; span=(5662, 5674), match='147-555-6830'>\n",
      "<re.Match object; span=(5751, 5763), match='582-555-3426'>\n",
      "<re.Match object; span=(5836, 5848), match='400-555-1706'>\n",
      "<re.Match object; span=(5927, 5939), match='525-555-1793'>\n",
      "<re.Match object; span=(6017, 6029), match='317-555-6700'>\n",
      "<re.Match object; span=(6105, 6117), match='974-555-8301'>\n",
      "<re.Match object; span=(6195, 6207), match='800-555-3216'>\n",
      "<re.Match object; span=(6281, 6293), match='746-555-4094'>\n",
      "<re.Match object; span=(6368, 6380), match='922-555-1773'>\n",
      "<re.Match object; span=(6453, 6465), match='711-555-4427'>\n",
      "<re.Match object; span=(6538, 6550), match='355-555-1872'>\n",
      "<re.Match object; span=(6627, 6639), match='852-555-6521'>\n",
      "<re.Match object; span=(6719, 6731), match='691-555-5773'>\n",
      "<re.Match object; span=(6811, 6823), match='332-555-5441'>\n",
      "<re.Match object; span=(6897, 6909), match='900-555-7755'>\n",
      "<re.Match object; span=(6979, 6991), match='379-555-3685'>\n",
      "<re.Match object; span=(7069, 7081), match='127-555-9682'>\n",
      "<re.Match object; span=(7160, 7172), match='789-555-7032'>\n",
      "<re.Match object; span=(7251, 7263), match='783-555-5135'>\n",
      "<re.Match object; span=(7344, 7356), match='315-555-6507'>\n",
      "<re.Match object; span=(7435, 7447), match='481-555-5835'>\n",
      "<re.Match object; span=(7523, 7535), match='365-555-8287'>\n",
      "<re.Match object; span=(7615, 7627), match='911-555-7535'>\n",
      "<re.Match object; span=(7701, 7713), match='681-555-2460'>\n",
      "<re.Match object; span=(7787, 7799), match='274-555-9800'>\n",
      "<re.Match object; span=(7872, 7884), match='800-555-1372'>\n",
      "<re.Match object; span=(7961, 7973), match='300-555-7821'>\n",
      "<re.Match object; span=(8051, 8063), match='133-555-3889'>\n",
      "<re.Match object; span=(8139, 8151), match='705-555-6863'>\n",
      "<re.Match object; span=(8228, 8240), match='215-555-9449'>\n",
      "<re.Match object; span=(8319, 8331), match='988-555-6112'>\n",
      "<re.Match object; span=(8405, 8417), match='623-555-3006'>\n",
      "<re.Match object; span=(8489, 8501), match='192-555-4977'>\n",
      "<re.Match object; span=(8574, 8586), match='178-555-4899'>\n",
      "<re.Match object; span=(8658, 8670), match='952-555-3089'>\n",
      "<re.Match object; span=(8751, 8763), match='900-555-6426'>\n"
     ]
    }
   ],
   "source": [
    "pattern=re.compile(r'\\d\\d\\d.\\d\\d\\d.\\d\\d\\d\\d') \n",
    "\n",
    "with open('data.txt','r') as f:\n",
    "    contents=f.read()\n",
    "    matches=pattern.finditer(contents)\n",
    "    for match in matches:\n",
    "        print(match)"
   ]
  },
  {
   "cell_type": "code",
   "execution_count": 51,
   "id": "673f3787",
   "metadata": {},
   "outputs": [],
   "source": [
    "text_to_Search='''abcdefghijklmnopqurtuvwxyz\n",
    "ABCDEFGHIJKLMNOPQRSTUVWXYZ\n",
    "1234567890\n",
    "\n",
    "Ha HaHa\n",
    "\n",
    "MetaCharacters (Need to be escaped):\n",
    ".[{()\\^$|?*+\n",
    "\n",
    "coreyms.com\n",
    "\n",
    "321-555-4321\n",
    "123.555.1234\n",
    "123*555*1234\n",
    "\n",
    "\n",
    "Mr. Schafer\n",
    "Mr Smith\n",
    "Ms Davis\n",
    "Mrs. Robinson\n",
    "Mr. T\n",
    "'''\n",
    "\n",
    "sentence = 'Start a sentence and then bring it to an end'\n"
   ]
  },
  {
   "cell_type": "code",
   "execution_count": 52,
   "id": "731ee601",
   "metadata": {},
   "outputs": [
    {
     "name": "stdout",
     "output_type": "stream",
     "text": [
      "<re.Match object; span=(139, 151), match='321-555-4321'>\n",
      "<re.Match object; span=(152, 164), match='123.555.1234'>\n",
      "<re.Match object; span=(165, 177), match='123*555*1234'>\n"
     ]
    }
   ],
   "source": [
    "pattern=re.compile(r'\\d\\d\\d.\\d\\d\\d.\\d\\d\\d\\d') \n",
    "matches=pattern.finditer(text_to_Search)\n",
    "for match in matches:\n",
    "    print(match)"
   ]
  },
  {
   "cell_type": "code",
   "execution_count": 53,
   "id": "770c77b9",
   "metadata": {},
   "outputs": [
    {
     "name": "stdout",
     "output_type": "stream",
     "text": [
      "<re.Match object; span=(139, 151), match='321-555-4321'>\n",
      "<re.Match object; span=(152, 164), match='123.555.1234'>\n"
     ]
    }
   ],
   "source": [
    "pattern=re.compile(r'\\d\\d\\d[-.]\\d\\d\\d[-.]\\d\\d\\d\\d') \n",
    "matches=pattern.finditer(text_to_Search)\n",
    "for match in matches:\n",
    "    print(match)"
   ]
  },
  {
   "cell_type": "code",
   "execution_count": 54,
   "id": "30903a13",
   "metadata": {},
   "outputs": [],
   "source": [
    "text_to_Search='''abcdefghijklmnopqurtuvwxyz\n",
    "ABCDEFGHIJKLMNOPQRSTUVWXYZ\n",
    "1234567890\n",
    "\n",
    "Ha HaHa\n",
    "\n",
    "MetaCharacters (Need to be escaped):\n",
    ".[{()\\^$|?*+\n",
    "\n",
    "coreyms.com\n",
    "\n",
    "321--555--4321\n",
    "123.555.1234\n",
    "123*555*1234\n",
    "\n",
    "\n",
    "Mr. Schafer\n",
    "Mr Smith\n",
    "Ms Davis\n",
    "Mrs. Robinson\n",
    "Mr. T\n",
    "'''\n",
    "\n",
    "sentence = 'Start a sentence and then bring it to an end'\n"
   ]
  },
  {
   "cell_type": "code",
   "execution_count": 57,
   "id": "03a758b5",
   "metadata": {},
   "outputs": [
    {
     "name": "stdout",
     "output_type": "stream",
     "text": [
      "<re.Match object; span=(154, 166), match='123.555.1234'>\n"
     ]
    }
   ],
   "source": [
    "pattern=re.compile(r'\\d\\d\\d[-.]\\d\\d\\d[-.]\\d\\d\\d\\d')    #matches only with a single character thus -- will be ignored\n",
    "matches=pattern.finditer(text_to_Search)\n",
    "for match in matches:\n",
    "    print(match)"
   ]
  },
  {
   "cell_type": "code",
   "execution_count": 59,
   "id": "f0f2d3ee",
   "metadata": {},
   "outputs": [],
   "source": [
    "text_to_Search='''abcdefghijklmnopqurtuvwxyz\n",
    "ABCDEFGHIJKLMNOPQRSTUVWXYZ\n",
    "1234567890\n",
    "\n",
    "Ha HaHa\n",
    "\n",
    "MetaCharacters (Need to be escaped):\n",
    ".[{()\\^$|?*+\n",
    "\n",
    "coreyms.com\n",
    "\n",
    "321-555-4321\n",
    "900-555-4321\n",
    "800-555-4321\n",
    "123.555.1234\n",
    "123*555*1234\n",
    "\n",
    "\n",
    "Mr. Schafer\n",
    "Mr Smith\n",
    "Ms Davis\n",
    "Mrs. Robinson\n",
    "Mr. T\n",
    "'''\n",
    "\n",
    "sentence = 'Start a sentence and then bring it to an end'\n"
   ]
  },
  {
   "cell_type": "code",
   "execution_count": 60,
   "id": "b8f0b058",
   "metadata": {},
   "outputs": [
    {
     "name": "stdout",
     "output_type": "stream",
     "text": [
      "<re.Match object; span=(152, 164), match='900-555-4321'>\n",
      "<re.Match object; span=(165, 177), match='800-555-4321'>\n"
     ]
    }
   ],
   "source": [
    "pattern=re.compile(r'[89]00[-.]\\d\\d\\d[-.]\\d\\d\\d\\d')    #  [] inside matches only with a single character thus -- will be ignored\n",
    "matches=pattern.finditer(text_to_Search)\n",
    "for match in matches:\n",
    "    print(match)"
   ]
  },
  {
   "cell_type": "code",
   "execution_count": 61,
   "id": "61b6a80d",
   "metadata": {},
   "outputs": [
    {
     "name": "stdout",
     "output_type": "stream",
     "text": [
      "<re.Match object; span=(102, 114), match='800-555-5669'>\n",
      "<re.Match object; span=(281, 293), match='900-555-9340'>\n",
      "<re.Match object; span=(467, 479), match='800-555-6771'>\n",
      "<re.Match object; span=(1093, 1105), match='900-555-3205'>\n",
      "<re.Match object; span=(1443, 1455), match='800-555-6089'>\n",
      "<re.Match object; span=(1794, 1806), match='800-555-7100'>\n",
      "<re.Match object; span=(2055, 2067), match='900-555-5118'>\n",
      "<re.Match object; span=(2830, 2842), match='900-555-5428'>\n",
      "<re.Match object; span=(3290, 3302), match='800-555-8810'>\n",
      "<re.Match object; span=(3977, 3989), match='900-555-9598'>\n",
      "<re.Match object; span=(4951, 4963), match='800-555-2420'>\n",
      "<re.Match object; span=(5572, 5584), match='900-555-3567'>\n",
      "<re.Match object; span=(6195, 6207), match='800-555-3216'>\n",
      "<re.Match object; span=(6897, 6909), match='900-555-7755'>\n",
      "<re.Match object; span=(7872, 7884), match='800-555-1372'>\n",
      "<re.Match object; span=(8751, 8763), match='900-555-6426'>\n"
     ]
    }
   ],
   "source": [
    "with open('data.txt','r') as f:\n",
    "    contents=f.read()\n",
    "    matches=pattern.finditer(contents)\n",
    "    for match in matches:\n",
    "        print(match)"
   ]
  },
  {
   "cell_type": "code",
   "execution_count": 62,
   "id": "bb5b916a",
   "metadata": {},
   "outputs": [
    {
     "name": "stdout",
     "output_type": "stream",
     "text": [
      "<re.Match object; span=(54, 55), match='1'>\n",
      "<re.Match object; span=(55, 56), match='2'>\n",
      "<re.Match object; span=(56, 57), match='3'>\n",
      "<re.Match object; span=(57, 58), match='4'>\n",
      "<re.Match object; span=(58, 59), match='5'>\n",
      "<re.Match object; span=(139, 140), match='3'>\n",
      "<re.Match object; span=(140, 141), match='2'>\n",
      "<re.Match object; span=(141, 142), match='1'>\n",
      "<re.Match object; span=(143, 144), match='5'>\n",
      "<re.Match object; span=(144, 145), match='5'>\n",
      "<re.Match object; span=(145, 146), match='5'>\n",
      "<re.Match object; span=(147, 148), match='4'>\n",
      "<re.Match object; span=(148, 149), match='3'>\n",
      "<re.Match object; span=(149, 150), match='2'>\n",
      "<re.Match object; span=(150, 151), match='1'>\n",
      "<re.Match object; span=(156, 157), match='5'>\n",
      "<re.Match object; span=(157, 158), match='5'>\n",
      "<re.Match object; span=(158, 159), match='5'>\n",
      "<re.Match object; span=(160, 161), match='4'>\n",
      "<re.Match object; span=(161, 162), match='3'>\n",
      "<re.Match object; span=(162, 163), match='2'>\n",
      "<re.Match object; span=(163, 164), match='1'>\n",
      "<re.Match object; span=(169, 170), match='5'>\n",
      "<re.Match object; span=(170, 171), match='5'>\n",
      "<re.Match object; span=(171, 172), match='5'>\n",
      "<re.Match object; span=(173, 174), match='4'>\n",
      "<re.Match object; span=(174, 175), match='3'>\n",
      "<re.Match object; span=(175, 176), match='2'>\n",
      "<re.Match object; span=(176, 177), match='1'>\n",
      "<re.Match object; span=(178, 179), match='1'>\n",
      "<re.Match object; span=(179, 180), match='2'>\n",
      "<re.Match object; span=(180, 181), match='3'>\n",
      "<re.Match object; span=(182, 183), match='5'>\n",
      "<re.Match object; span=(183, 184), match='5'>\n",
      "<re.Match object; span=(184, 185), match='5'>\n",
      "<re.Match object; span=(186, 187), match='1'>\n",
      "<re.Match object; span=(187, 188), match='2'>\n",
      "<re.Match object; span=(188, 189), match='3'>\n",
      "<re.Match object; span=(189, 190), match='4'>\n",
      "<re.Match object; span=(191, 192), match='1'>\n",
      "<re.Match object; span=(192, 193), match='2'>\n",
      "<re.Match object; span=(193, 194), match='3'>\n",
      "<re.Match object; span=(195, 196), match='5'>\n",
      "<re.Match object; span=(196, 197), match='5'>\n",
      "<re.Match object; span=(197, 198), match='5'>\n",
      "<re.Match object; span=(199, 200), match='1'>\n",
      "<re.Match object; span=(200, 201), match='2'>\n",
      "<re.Match object; span=(201, 202), match='3'>\n",
      "<re.Match object; span=(202, 203), match='4'>\n"
     ]
    }
   ],
   "source": [
    "pattern=re.compile(r'[1-5]')    #  here - will work as range\n",
    "matches=pattern.finditer(text_to_Search)\n",
    "for match in matches:\n",
    "    print(match)"
   ]
  },
  {
   "cell_type": "code",
   "execution_count": 63,
   "id": "03d0547a",
   "metadata": {},
   "outputs": [
    {
     "name": "stdout",
     "output_type": "stream",
     "text": [
      "<re.Match object; span=(0, 1), match='a'>\n",
      "<re.Match object; span=(1, 2), match='b'>\n",
      "<re.Match object; span=(2, 3), match='c'>\n",
      "<re.Match object; span=(3, 4), match='d'>\n",
      "<re.Match object; span=(4, 5), match='e'>\n",
      "<re.Match object; span=(5, 6), match='f'>\n",
      "<re.Match object; span=(6, 7), match='g'>\n",
      "<re.Match object; span=(7, 8), match='h'>\n",
      "<re.Match object; span=(8, 9), match='i'>\n",
      "<re.Match object; span=(9, 10), match='j'>\n",
      "<re.Match object; span=(10, 11), match='k'>\n",
      "<re.Match object; span=(11, 12), match='l'>\n",
      "<re.Match object; span=(12, 13), match='m'>\n",
      "<re.Match object; span=(13, 14), match='n'>\n",
      "<re.Match object; span=(14, 15), match='o'>\n",
      "<re.Match object; span=(15, 16), match='p'>\n",
      "<re.Match object; span=(16, 17), match='q'>\n",
      "<re.Match object; span=(17, 18), match='u'>\n",
      "<re.Match object; span=(18, 19), match='r'>\n",
      "<re.Match object; span=(19, 20), match='t'>\n",
      "<re.Match object; span=(20, 21), match='u'>\n",
      "<re.Match object; span=(21, 22), match='v'>\n",
      "<re.Match object; span=(22, 23), match='w'>\n",
      "<re.Match object; span=(23, 24), match='x'>\n",
      "<re.Match object; span=(24, 25), match='y'>\n",
      "<re.Match object; span=(25, 26), match='z'>\n",
      "<re.Match object; span=(27, 28), match='A'>\n",
      "<re.Match object; span=(28, 29), match='B'>\n",
      "<re.Match object; span=(29, 30), match='C'>\n",
      "<re.Match object; span=(30, 31), match='D'>\n",
      "<re.Match object; span=(31, 32), match='E'>\n",
      "<re.Match object; span=(32, 33), match='F'>\n",
      "<re.Match object; span=(33, 34), match='G'>\n",
      "<re.Match object; span=(34, 35), match='H'>\n",
      "<re.Match object; span=(35, 36), match='I'>\n",
      "<re.Match object; span=(36, 37), match='J'>\n",
      "<re.Match object; span=(37, 38), match='K'>\n",
      "<re.Match object; span=(38, 39), match='L'>\n",
      "<re.Match object; span=(39, 40), match='M'>\n",
      "<re.Match object; span=(40, 41), match='N'>\n",
      "<re.Match object; span=(41, 42), match='O'>\n",
      "<re.Match object; span=(42, 43), match='P'>\n",
      "<re.Match object; span=(43, 44), match='Q'>\n",
      "<re.Match object; span=(44, 45), match='R'>\n",
      "<re.Match object; span=(45, 46), match='S'>\n",
      "<re.Match object; span=(46, 47), match='T'>\n",
      "<re.Match object; span=(47, 48), match='U'>\n",
      "<re.Match object; span=(48, 49), match='V'>\n",
      "<re.Match object; span=(49, 50), match='W'>\n",
      "<re.Match object; span=(50, 51), match='X'>\n",
      "<re.Match object; span=(51, 52), match='Y'>\n",
      "<re.Match object; span=(52, 53), match='Z'>\n",
      "<re.Match object; span=(66, 67), match='H'>\n",
      "<re.Match object; span=(67, 68), match='a'>\n",
      "<re.Match object; span=(69, 70), match='H'>\n",
      "<re.Match object; span=(70, 71), match='a'>\n",
      "<re.Match object; span=(71, 72), match='H'>\n",
      "<re.Match object; span=(72, 73), match='a'>\n",
      "<re.Match object; span=(75, 76), match='M'>\n",
      "<re.Match object; span=(76, 77), match='e'>\n",
      "<re.Match object; span=(77, 78), match='t'>\n",
      "<re.Match object; span=(78, 79), match='a'>\n",
      "<re.Match object; span=(79, 80), match='C'>\n",
      "<re.Match object; span=(80, 81), match='h'>\n",
      "<re.Match object; span=(81, 82), match='a'>\n",
      "<re.Match object; span=(82, 83), match='r'>\n",
      "<re.Match object; span=(83, 84), match='a'>\n",
      "<re.Match object; span=(84, 85), match='c'>\n",
      "<re.Match object; span=(85, 86), match='t'>\n",
      "<re.Match object; span=(86, 87), match='e'>\n",
      "<re.Match object; span=(87, 88), match='r'>\n",
      "<re.Match object; span=(88, 89), match='s'>\n",
      "<re.Match object; span=(91, 92), match='N'>\n",
      "<re.Match object; span=(92, 93), match='e'>\n",
      "<re.Match object; span=(93, 94), match='e'>\n",
      "<re.Match object; span=(94, 95), match='d'>\n",
      "<re.Match object; span=(96, 97), match='t'>\n",
      "<re.Match object; span=(97, 98), match='o'>\n",
      "<re.Match object; span=(99, 100), match='b'>\n",
      "<re.Match object; span=(100, 101), match='e'>\n",
      "<re.Match object; span=(102, 103), match='e'>\n",
      "<re.Match object; span=(103, 104), match='s'>\n",
      "<re.Match object; span=(104, 105), match='c'>\n",
      "<re.Match object; span=(105, 106), match='a'>\n",
      "<re.Match object; span=(106, 107), match='p'>\n",
      "<re.Match object; span=(107, 108), match='e'>\n",
      "<re.Match object; span=(108, 109), match='d'>\n",
      "<re.Match object; span=(126, 127), match='c'>\n",
      "<re.Match object; span=(127, 128), match='o'>\n",
      "<re.Match object; span=(128, 129), match='r'>\n",
      "<re.Match object; span=(129, 130), match='e'>\n",
      "<re.Match object; span=(130, 131), match='y'>\n",
      "<re.Match object; span=(131, 132), match='m'>\n",
      "<re.Match object; span=(132, 133), match='s'>\n",
      "<re.Match object; span=(134, 135), match='c'>\n",
      "<re.Match object; span=(135, 136), match='o'>\n",
      "<re.Match object; span=(136, 137), match='m'>\n",
      "<re.Match object; span=(206, 207), match='M'>\n",
      "<re.Match object; span=(207, 208), match='r'>\n",
      "<re.Match object; span=(210, 211), match='S'>\n",
      "<re.Match object; span=(211, 212), match='c'>\n",
      "<re.Match object; span=(212, 213), match='h'>\n",
      "<re.Match object; span=(213, 214), match='a'>\n",
      "<re.Match object; span=(214, 215), match='f'>\n",
      "<re.Match object; span=(215, 216), match='e'>\n",
      "<re.Match object; span=(216, 217), match='r'>\n",
      "<re.Match object; span=(218, 219), match='M'>\n",
      "<re.Match object; span=(219, 220), match='r'>\n",
      "<re.Match object; span=(221, 222), match='S'>\n",
      "<re.Match object; span=(222, 223), match='m'>\n",
      "<re.Match object; span=(223, 224), match='i'>\n",
      "<re.Match object; span=(224, 225), match='t'>\n",
      "<re.Match object; span=(225, 226), match='h'>\n",
      "<re.Match object; span=(227, 228), match='M'>\n",
      "<re.Match object; span=(228, 229), match='s'>\n",
      "<re.Match object; span=(230, 231), match='D'>\n",
      "<re.Match object; span=(231, 232), match='a'>\n",
      "<re.Match object; span=(232, 233), match='v'>\n",
      "<re.Match object; span=(233, 234), match='i'>\n",
      "<re.Match object; span=(234, 235), match='s'>\n",
      "<re.Match object; span=(236, 237), match='M'>\n",
      "<re.Match object; span=(237, 238), match='r'>\n",
      "<re.Match object; span=(238, 239), match='s'>\n",
      "<re.Match object; span=(241, 242), match='R'>\n",
      "<re.Match object; span=(242, 243), match='o'>\n",
      "<re.Match object; span=(243, 244), match='b'>\n",
      "<re.Match object; span=(244, 245), match='i'>\n",
      "<re.Match object; span=(245, 246), match='n'>\n",
      "<re.Match object; span=(246, 247), match='s'>\n",
      "<re.Match object; span=(247, 248), match='o'>\n",
      "<re.Match object; span=(248, 249), match='n'>\n",
      "<re.Match object; span=(250, 251), match='M'>\n",
      "<re.Match object; span=(251, 252), match='r'>\n",
      "<re.Match object; span=(254, 255), match='T'>\n"
     ]
    }
   ],
   "source": [
    "pattern=re.compile(r'[a-zA-Z]')    #  here - will work as range\n",
    "matches=pattern.finditer(text_to_Search)\n",
    "for match in matches:\n",
    "    print(match)"
   ]
  },
  {
   "cell_type": "code",
   "execution_count": 64,
   "id": "6f9326da",
   "metadata": {},
   "outputs": [
    {
     "name": "stdout",
     "output_type": "stream",
     "text": [
      "<re.Match object; span=(26, 27), match='\\n'>\n",
      "<re.Match object; span=(53, 54), match='\\n'>\n",
      "<re.Match object; span=(54, 55), match='1'>\n",
      "<re.Match object; span=(55, 56), match='2'>\n",
      "<re.Match object; span=(56, 57), match='3'>\n",
      "<re.Match object; span=(57, 58), match='4'>\n",
      "<re.Match object; span=(58, 59), match='5'>\n",
      "<re.Match object; span=(59, 60), match='6'>\n",
      "<re.Match object; span=(60, 61), match='7'>\n",
      "<re.Match object; span=(61, 62), match='8'>\n",
      "<re.Match object; span=(62, 63), match='9'>\n",
      "<re.Match object; span=(63, 64), match='0'>\n",
      "<re.Match object; span=(64, 65), match='\\n'>\n",
      "<re.Match object; span=(65, 66), match='\\n'>\n",
      "<re.Match object; span=(68, 69), match=' '>\n",
      "<re.Match object; span=(73, 74), match='\\n'>\n",
      "<re.Match object; span=(74, 75), match='\\n'>\n",
      "<re.Match object; span=(89, 90), match=' '>\n",
      "<re.Match object; span=(90, 91), match='('>\n",
      "<re.Match object; span=(95, 96), match=' '>\n",
      "<re.Match object; span=(98, 99), match=' '>\n",
      "<re.Match object; span=(101, 102), match=' '>\n",
      "<re.Match object; span=(109, 110), match=')'>\n",
      "<re.Match object; span=(110, 111), match=':'>\n",
      "<re.Match object; span=(111, 112), match='\\n'>\n",
      "<re.Match object; span=(112, 113), match='.'>\n",
      "<re.Match object; span=(113, 114), match='['>\n",
      "<re.Match object; span=(114, 115), match='{'>\n",
      "<re.Match object; span=(115, 116), match='('>\n",
      "<re.Match object; span=(116, 117), match=')'>\n",
      "<re.Match object; span=(117, 118), match='\\\\'>\n",
      "<re.Match object; span=(118, 119), match='^'>\n",
      "<re.Match object; span=(119, 120), match='$'>\n",
      "<re.Match object; span=(120, 121), match='|'>\n",
      "<re.Match object; span=(121, 122), match='?'>\n",
      "<re.Match object; span=(122, 123), match='*'>\n",
      "<re.Match object; span=(123, 124), match='+'>\n",
      "<re.Match object; span=(124, 125), match='\\n'>\n",
      "<re.Match object; span=(125, 126), match='\\n'>\n",
      "<re.Match object; span=(133, 134), match='.'>\n",
      "<re.Match object; span=(137, 138), match='\\n'>\n",
      "<re.Match object; span=(138, 139), match='\\n'>\n",
      "<re.Match object; span=(139, 140), match='3'>\n",
      "<re.Match object; span=(140, 141), match='2'>\n",
      "<re.Match object; span=(141, 142), match='1'>\n",
      "<re.Match object; span=(142, 143), match='-'>\n",
      "<re.Match object; span=(143, 144), match='5'>\n",
      "<re.Match object; span=(144, 145), match='5'>\n",
      "<re.Match object; span=(145, 146), match='5'>\n",
      "<re.Match object; span=(146, 147), match='-'>\n",
      "<re.Match object; span=(147, 148), match='4'>\n",
      "<re.Match object; span=(148, 149), match='3'>\n",
      "<re.Match object; span=(149, 150), match='2'>\n",
      "<re.Match object; span=(150, 151), match='1'>\n",
      "<re.Match object; span=(151, 152), match='\\n'>\n",
      "<re.Match object; span=(152, 153), match='9'>\n",
      "<re.Match object; span=(153, 154), match='0'>\n",
      "<re.Match object; span=(154, 155), match='0'>\n",
      "<re.Match object; span=(155, 156), match='-'>\n",
      "<re.Match object; span=(156, 157), match='5'>\n",
      "<re.Match object; span=(157, 158), match='5'>\n",
      "<re.Match object; span=(158, 159), match='5'>\n",
      "<re.Match object; span=(159, 160), match='-'>\n",
      "<re.Match object; span=(160, 161), match='4'>\n",
      "<re.Match object; span=(161, 162), match='3'>\n",
      "<re.Match object; span=(162, 163), match='2'>\n",
      "<re.Match object; span=(163, 164), match='1'>\n",
      "<re.Match object; span=(164, 165), match='\\n'>\n",
      "<re.Match object; span=(165, 166), match='8'>\n",
      "<re.Match object; span=(166, 167), match='0'>\n",
      "<re.Match object; span=(167, 168), match='0'>\n",
      "<re.Match object; span=(168, 169), match='-'>\n",
      "<re.Match object; span=(169, 170), match='5'>\n",
      "<re.Match object; span=(170, 171), match='5'>\n",
      "<re.Match object; span=(171, 172), match='5'>\n",
      "<re.Match object; span=(172, 173), match='-'>\n",
      "<re.Match object; span=(173, 174), match='4'>\n",
      "<re.Match object; span=(174, 175), match='3'>\n",
      "<re.Match object; span=(175, 176), match='2'>\n",
      "<re.Match object; span=(176, 177), match='1'>\n",
      "<re.Match object; span=(177, 178), match='\\n'>\n",
      "<re.Match object; span=(178, 179), match='1'>\n",
      "<re.Match object; span=(179, 180), match='2'>\n",
      "<re.Match object; span=(180, 181), match='3'>\n",
      "<re.Match object; span=(181, 182), match='.'>\n",
      "<re.Match object; span=(182, 183), match='5'>\n",
      "<re.Match object; span=(183, 184), match='5'>\n",
      "<re.Match object; span=(184, 185), match='5'>\n",
      "<re.Match object; span=(185, 186), match='.'>\n",
      "<re.Match object; span=(186, 187), match='1'>\n",
      "<re.Match object; span=(187, 188), match='2'>\n",
      "<re.Match object; span=(188, 189), match='3'>\n",
      "<re.Match object; span=(189, 190), match='4'>\n",
      "<re.Match object; span=(190, 191), match='\\n'>\n",
      "<re.Match object; span=(191, 192), match='1'>\n",
      "<re.Match object; span=(192, 193), match='2'>\n",
      "<re.Match object; span=(193, 194), match='3'>\n",
      "<re.Match object; span=(194, 195), match='*'>\n",
      "<re.Match object; span=(195, 196), match='5'>\n",
      "<re.Match object; span=(196, 197), match='5'>\n",
      "<re.Match object; span=(197, 198), match='5'>\n",
      "<re.Match object; span=(198, 199), match='*'>\n",
      "<re.Match object; span=(199, 200), match='1'>\n",
      "<re.Match object; span=(200, 201), match='2'>\n",
      "<re.Match object; span=(201, 202), match='3'>\n",
      "<re.Match object; span=(202, 203), match='4'>\n",
      "<re.Match object; span=(203, 204), match='\\n'>\n",
      "<re.Match object; span=(204, 205), match='\\n'>\n",
      "<re.Match object; span=(205, 206), match='\\n'>\n",
      "<re.Match object; span=(208, 209), match='.'>\n",
      "<re.Match object; span=(209, 210), match=' '>\n",
      "<re.Match object; span=(217, 218), match='\\n'>\n",
      "<re.Match object; span=(220, 221), match=' '>\n",
      "<re.Match object; span=(226, 227), match='\\n'>\n",
      "<re.Match object; span=(229, 230), match=' '>\n",
      "<re.Match object; span=(235, 236), match='\\n'>\n",
      "<re.Match object; span=(239, 240), match='.'>\n",
      "<re.Match object; span=(240, 241), match=' '>\n",
      "<re.Match object; span=(249, 250), match='\\n'>\n",
      "<re.Match object; span=(252, 253), match='.'>\n",
      "<re.Match object; span=(253, 254), match=' '>\n",
      "<re.Match object; span=(255, 256), match='\\n'>\n"
     ]
    }
   ],
   "source": [
    "pattern=re.compile(r'[^a-zA-Z]')    #  here ^ will work as NOT\n",
    "matches=pattern.finditer(text_to_Search)\n",
    "for match in matches:\n",
    "    print(match)"
   ]
  },
  {
   "cell_type": "code",
   "execution_count": 65,
   "id": "d5c93530",
   "metadata": {},
   "outputs": [],
   "source": [
    "text_to_Search='''abcdefghijklmnopqurtuvwxyz\n",
    "ABCDEFGHIJKLMNOPQRSTUVWXYZ\n",
    "1234567890\n",
    "\n",
    "Ha HaHa\n",
    "\n",
    "MetaCharacters (Need to be escaped):\n",
    ".[{()\\^$|?*+\n",
    "\n",
    "coreyms.com\n",
    "\n",
    "321-555-4321\n",
    "900-555-4321\n",
    "800-555-4321\n",
    "123.555.1234\n",
    "123*555*1234\n",
    "\n",
    "cat\n",
    "mat\n",
    "pat\n",
    "bat\n",
    "\n",
    "Mr. Schafer\n",
    "Mr Smith\n",
    "Ms Davis\n",
    "Mrs. Robinson\n",
    "Mr. T\n",
    "'''\n",
    "\n",
    "sentence = 'Start a sentence and then bring it to an end'\n"
   ]
  },
  {
   "cell_type": "code",
   "execution_count": 66,
   "id": "c7723a73",
   "metadata": {},
   "outputs": [
    {
     "name": "stdout",
     "output_type": "stream",
     "text": [
      "<re.Match object; span=(205, 208), match='cat'>\n",
      "<re.Match object; span=(209, 212), match='mat'>\n",
      "<re.Match object; span=(213, 216), match='pat'>\n"
     ]
    }
   ],
   "source": [
    "pattern=re.compile(r'[^b]at')    #  here ^ will work as NOT\n",
    "matches=pattern.finditer(text_to_Search)\n",
    "for match in matches:\n",
    "    print(match)"
   ]
  },
  {
   "cell_type": "code",
   "execution_count": 68,
   "id": "dcd7bda9",
   "metadata": {},
   "outputs": [
    {
     "name": "stdout",
     "output_type": "stream",
     "text": [
      "<re.Match object; span=(139, 151), match='321-555-4321'>\n",
      "<re.Match object; span=(152, 164), match='900-555-4321'>\n",
      "<re.Match object; span=(165, 177), match='800-555-4321'>\n",
      "<re.Match object; span=(178, 190), match='123.555.1234'>\n",
      "<re.Match object; span=(191, 203), match='123*555*1234'>\n"
     ]
    }
   ],
   "source": [
    "pattern=re.compile(r'\\d\\d\\d.\\d\\d\\d.\\d\\d\\d\\d')  \n",
    "matches=pattern.finditer(text_to_Search)\n",
    "for match in matches:\n",
    "    print(match)"
   ]
  },
  {
   "cell_type": "code",
   "execution_count": 70,
   "id": "39ebf211",
   "metadata": {},
   "outputs": [
    {
     "name": "stdout",
     "output_type": "stream",
     "text": [
      "<re.Match object; span=(139, 151), match='321-555-4321'>\n",
      "<re.Match object; span=(152, 164), match='900-555-4321'>\n",
      "<re.Match object; span=(165, 177), match='800-555-4321'>\n",
      "<re.Match object; span=(178, 190), match='123.555.1234'>\n",
      "<re.Match object; span=(191, 203), match='123*555*1234'>\n"
     ]
    }
   ],
   "source": [
    "pattern=re.compile(r'\\d{3}.\\d{3}.\\d{4}')      # {} the no of times we wanna repeat the character\n",
    "matches=pattern.finditer(text_to_Search)\n",
    "for match in matches:\n",
    "    print(match)"
   ]
  },
  {
   "cell_type": "code",
   "execution_count": 73,
   "id": "b7675046",
   "metadata": {},
   "outputs": [
    {
     "name": "stdout",
     "output_type": "stream",
     "text": [
      "<re.Match object; span=(222, 225), match='Mr.'>\n",
      "<re.Match object; span=(266, 269), match='Mr.'>\n"
     ]
    }
   ],
   "source": [
    "pattern=re.compile(r'Mr\\.')     #  \\. means a single . nothing more than that\n",
    "matches=pattern.finditer(text_to_Search)\n",
    "for match in matches:\n",
    "    print(match)"
   ]
  },
  {
   "cell_type": "code",
   "execution_count": 75,
   "id": "91e4058b",
   "metadata": {},
   "outputs": [
    {
     "name": "stdout",
     "output_type": "stream",
     "text": [
      "<re.Match object; span=(222, 225), match='Mr.'>\n",
      "<re.Match object; span=(234, 236), match='Mr'>\n",
      "<re.Match object; span=(252, 254), match='Mr'>\n",
      "<re.Match object; span=(266, 269), match='Mr.'>\n"
     ]
    }
   ],
   "source": [
    "pattern=re.compile(r'Mr\\.?')     #  ? means 0 or 1 .\n",
    "matches=pattern.finditer(text_to_Search)\n",
    "for match in matches:\n",
    "    print(match)"
   ]
  },
  {
   "cell_type": "code",
   "execution_count": 76,
   "id": "011e13d4",
   "metadata": {},
   "outputs": [
    {
     "name": "stdout",
     "output_type": "stream",
     "text": [
      "<re.Match object; span=(222, 227), match='Mr. S'>\n",
      "<re.Match object; span=(234, 238), match='Mr S'>\n",
      "<re.Match object; span=(266, 271), match='Mr. T'>\n"
     ]
    }
   ],
   "source": [
    "pattern=re.compile(r'Mr\\.?\\s[A-Z]')     #  ? means 0 or 1 .\n",
    "matches=pattern.finditer(text_to_Search)\n",
    "for match in matches:\n",
    "    print(match)"
   ]
  },
  {
   "cell_type": "code",
   "execution_count": 81,
   "id": "a0775f67",
   "metadata": {},
   "outputs": [
    {
     "name": "stdout",
     "output_type": "stream",
     "text": [
      "<re.Match object; span=(222, 233), match='Mr. Schafer'>\n",
      "<re.Match object; span=(234, 242), match='Mr Smith'>\n"
     ]
    }
   ],
   "source": [
    "pattern=re.compile(r'Mr\\.?\\s[A-Z]\\w+')     #  ? means 0 or 1 .\n",
    "matches=pattern.finditer(text_to_Search)\n",
    "for match in matches:\n",
    "    print(match)"
   ]
  },
  {
   "cell_type": "code",
   "execution_count": 82,
   "id": "f1217b39",
   "metadata": {},
   "outputs": [
    {
     "name": "stdout",
     "output_type": "stream",
     "text": [
      "<re.Match object; span=(222, 233), match='Mr. Schafer'>\n",
      "<re.Match object; span=(234, 242), match='Mr Smith'>\n",
      "<re.Match object; span=(266, 271), match='Mr. T'>\n"
     ]
    }
   ],
   "source": [
    "pattern=re.compile(r'Mr\\.?\\s[A-Z]\\w*')     #  ? means 0 or 1 .\n",
    "matches=pattern.finditer(text_to_Search)\n",
    "for match in matches:\n",
    "    print(match)"
   ]
  },
  {
   "cell_type": "code",
   "execution_count": 83,
   "id": "aa0029fb",
   "metadata": {},
   "outputs": [
    {
     "name": "stdout",
     "output_type": "stream",
     "text": [
      "<re.Match object; span=(222, 233), match='Mr. Schafer'>\n",
      "<re.Match object; span=(234, 242), match='Mr Smith'>\n",
      "<re.Match object; span=(243, 251), match='Ms Davis'>\n",
      "<re.Match object; span=(252, 265), match='Mrs. Robinson'>\n",
      "<re.Match object; span=(266, 271), match='Mr. T'>\n"
     ]
    }
   ],
   "source": [
    "pattern=re.compile(r'M(r|s|rs)\\.?\\s[A-Z]\\w*')     #  ? means 0 or 1 .\n",
    "matches=pattern.finditer(text_to_Search)\n",
    "for match in matches:\n",
    "    print(match)"
   ]
  },
  {
   "cell_type": "code",
   "execution_count": 84,
   "id": "d777277b",
   "metadata": {},
   "outputs": [
    {
     "name": "stdout",
     "output_type": "stream",
     "text": [
      "<re.Match object; span=(222, 233), match='Mr. Schafer'>\n",
      "<re.Match object; span=(234, 242), match='Mr Smith'>\n",
      "<re.Match object; span=(243, 251), match='Ms Davis'>\n",
      "<re.Match object; span=(252, 265), match='Mrs. Robinson'>\n",
      "<re.Match object; span=(266, 271), match='Mr. T'>\n"
     ]
    }
   ],
   "source": [
    "pattern=re.compile(r'(Mr|Ms|Mrs)\\.?\\s[A-Z]\\w*')     #  ? means 0 or 1 .\n",
    "matches=pattern.finditer(text_to_Search)\n",
    "for match in matches:\n",
    "    print(match)"
   ]
  },
  {
   "cell_type": "code",
   "execution_count": 85,
   "id": "672a8636",
   "metadata": {},
   "outputs": [],
   "source": [
    "emails = '''\n",
    "CoreyMSchafer@gmail.com\n",
    "corey.schafer@university.edu\n",
    "corey-321-schafer@my-work.net\n",
    "'''\n"
   ]
  },
  {
   "cell_type": "code",
   "execution_count": 87,
   "id": "2ea4a3a0",
   "metadata": {},
   "outputs": [
    {
     "name": "stdout",
     "output_type": "stream",
     "text": [
      "<re.Match object; span=(1, 24), match='CoreyMSchafer@gmail.com'>\n"
     ]
    }
   ],
   "source": [
    "pattern = re.compile(r'[a-zA-Z]+@[a-zA-Z]+\\.com')\n",
    "matches = pattern.finditer(emails)\n",
    "for match in matches:\n",
    "    print(match)"
   ]
  },
  {
   "cell_type": "code",
   "execution_count": 88,
   "id": "0ce57bcd",
   "metadata": {},
   "outputs": [
    {
     "name": "stdout",
     "output_type": "stream",
     "text": [
      "<re.Match object; span=(1, 24), match='CoreyMSchafer@gmail.com'>\n",
      "<re.Match object; span=(25, 53), match='corey.schafer@university.edu'>\n"
     ]
    }
   ],
   "source": [
    "pattern = re.compile(r'[a-zA-Z.]+@[a-zA-Z]+\\.(com|edu)')\n",
    "matches = pattern.finditer(emails)\n",
    "for match in matches:\n",
    "    print(match)"
   ]
  },
  {
   "cell_type": "code",
   "execution_count": 89,
   "id": "5ed71372",
   "metadata": {},
   "outputs": [
    {
     "name": "stdout",
     "output_type": "stream",
     "text": [
      "<re.Match object; span=(1, 24), match='CoreyMSchafer@gmail.com'>\n",
      "<re.Match object; span=(25, 53), match='corey.schafer@university.edu'>\n",
      "<re.Match object; span=(54, 83), match='corey-321-schafer@my-work.net'>\n"
     ]
    }
   ],
   "source": [
    "pattern = re.compile(r'[a-zA-Z0-9.-]+@[a-zA-Z-]+\\.(com|edu|net)')\n",
    "matches = pattern.finditer(emails)\n",
    "for match in matches:\n",
    "    print(match)"
   ]
  },
  {
   "cell_type": "code",
   "execution_count": 90,
   "id": "81825aac",
   "metadata": {},
   "outputs": [
    {
     "name": "stdout",
     "output_type": "stream",
     "text": [
      "<re.Match object; span=(1, 24), match='CoreyMSchafer@gmail.com'>\n",
      "<re.Match object; span=(25, 53), match='corey.schafer@university.edu'>\n",
      "<re.Match object; span=(54, 83), match='corey-321-schafer@my-work.net'>\n"
     ]
    }
   ],
   "source": [
    "pattern = re.compile(r'[a-zA-Z0-9_.+-]+@[a-zA-Z0-9-]+\\.[a-zA-Z0-9-.]+')\n",
    "matches = pattern.finditer(emails)\n",
    "for match in matches:\n",
    "    print(match)\n",
    "        "
   ]
  },
  {
   "cell_type": "code",
   "execution_count": 91,
   "id": "65b3be9a",
   "metadata": {},
   "outputs": [],
   "source": [
    "urls = '''\n",
    "https://www.google.com\n",
    "http://coreyms.com\n",
    "https://youtube.com\n",
    "https://www.nasa.gov\n",
    "'''"
   ]
  },
  {
   "cell_type": "code",
   "execution_count": 94,
   "id": "cf0c2cac",
   "metadata": {},
   "outputs": [
    {
     "name": "stdout",
     "output_type": "stream",
     "text": [
      "<re.Match object; span=(1, 6), match='https'>\n",
      "<re.Match object; span=(24, 28), match='http'>\n",
      "<re.Match object; span=(43, 48), match='https'>\n",
      "<re.Match object; span=(63, 68), match='https'>\n"
     ]
    }
   ],
   "source": [
    "pattern = re.compile(r'https?')         # here ? will make s optional\n",
    "matches = pattern.finditer(urls)\n",
    "for match in matches:\n",
    "    print(match)\n",
    "        "
   ]
  },
  {
   "cell_type": "code",
   "execution_count": 98,
   "id": "5983d569",
   "metadata": {},
   "outputs": [
    {
     "name": "stdout",
     "output_type": "stream",
     "text": [
      "<re.Match object; span=(1, 13), match='https://www.'>\n",
      "<re.Match object; span=(24, 31), match='http://'>\n",
      "<re.Match object; span=(43, 51), match='https://'>\n",
      "<re.Match object; span=(63, 75), match='https://www.'>\n"
     ]
    }
   ],
   "source": [
    "pattern = re.compile(r'https?://(www\\.)?')         \n",
    "matches = pattern.finditer(urls)\n",
    "for match in matches:\n",
    "    print(match)\n",
    "        "
   ]
  },
  {
   "cell_type": "markdown",
   "id": "44255cb7",
   "metadata": {},
   "source": [
    "#### \\w matches a single word character"
   ]
  },
  {
   "cell_type": "code",
   "execution_count": 100,
   "id": "3944b0ff",
   "metadata": {},
   "outputs": [
    {
     "name": "stdout",
     "output_type": "stream",
     "text": [
      "<re.Match object; span=(1, 23), match='https://www.google.com'>\n",
      "<re.Match object; span=(24, 42), match='http://coreyms.com'>\n",
      "<re.Match object; span=(43, 62), match='https://youtube.com'>\n",
      "<re.Match object; span=(63, 83), match='https://www.nasa.gov'>\n"
     ]
    }
   ],
   "source": [
    "pattern = re.compile(r'https?://(www\\.)?\\w+\\.\\w+')        \n",
    "matches = pattern.finditer(urls)\n",
    "for match in matches:\n",
    "    print(match)\n",
    "        "
   ]
  },
  {
   "cell_type": "code",
   "execution_count": 103,
   "id": "a8e4619e",
   "metadata": {},
   "outputs": [
    {
     "name": "stdout",
     "output_type": "stream",
     "text": [
      "<re.Match object; span=(1, 23), match='https://www.google.com'>\n",
      "<re.Match object; span=(24, 42), match='http://coreyms.com'>\n",
      "<re.Match object; span=(43, 62), match='https://youtube.com'>\n",
      "<re.Match object; span=(63, 83), match='https://www.nasa.gov'>\n"
     ]
    }
   ],
   "source": [
    "pattern = re.compile(r'https?://(www\\.)?(\\w+)(\\.\\w+)')       l\n",
    "matches = pattern.finditer(urls)\n",
    "for match in matches:\n",
    "    print(match)\n",
    "        "
   ]
  },
  {
   "cell_type": "code",
   "execution_count": 104,
   "id": "e258544f",
   "metadata": {},
   "outputs": [
    {
     "name": "stdout",
     "output_type": "stream",
     "text": [
      "https://www.google.com\n",
      "http://coreyms.com\n",
      "https://youtube.com\n",
      "https://www.nasa.gov\n"
     ]
    }
   ],
   "source": [
    "pattern = re.compile(r'https?://(www\\.)?(\\w+)(\\.\\w+)')      \n",
    "matches = pattern.finditer(urls)\n",
    "for match in matches:\n",
    "    print(match.group(0))\n",
    "        "
   ]
  },
  {
   "cell_type": "code",
   "execution_count": 105,
   "id": "210530ee",
   "metadata": {},
   "outputs": [
    {
     "name": "stdout",
     "output_type": "stream",
     "text": [
      "www.\n",
      "None\n",
      "None\n",
      "www.\n"
     ]
    }
   ],
   "source": [
    "pattern = re.compile(r'https?://(www\\.)?(\\w+)(\\.\\w+)')      \n",
    "matches = pattern.finditer(urls)\n",
    "for match in matches:\n",
    "    print(match.group(1))\n",
    "        "
   ]
  },
  {
   "cell_type": "code",
   "execution_count": 106,
   "id": "6734a6ae",
   "metadata": {},
   "outputs": [
    {
     "name": "stdout",
     "output_type": "stream",
     "text": [
      "google\n",
      "coreyms\n",
      "youtube\n",
      "nasa\n"
     ]
    }
   ],
   "source": [
    "pattern = re.compile(r'https?://(www\\.)?(\\w+)(\\.\\w+)')      \n",
    "matches = pattern.finditer(urls)\n",
    "for match in matches:\n",
    "    print(match.group(2))\n",
    "        "
   ]
  },
  {
   "cell_type": "code",
   "execution_count": 107,
   "id": "0238aa8b",
   "metadata": {},
   "outputs": [
    {
     "name": "stdout",
     "output_type": "stream",
     "text": [
      ".com\n",
      ".com\n",
      ".com\n",
      ".gov\n"
     ]
    }
   ],
   "source": [
    "pattern = re.compile(r'https?://(www\\.)?(\\w+)(\\.\\w+)')      \n",
    "matches = pattern.finditer(urls)\n",
    "for match in matches:\n",
    "    print(match.group(3))\n",
    "        "
   ]
  },
  {
   "cell_type": "code",
   "execution_count": 109,
   "id": "ba301d43",
   "metadata": {},
   "outputs": [
    {
     "name": "stdout",
     "output_type": "stream",
     "text": [
      "\n",
      "google.com\n",
      "coreyms.com\n",
      "youtube.com\n",
      "nasa.gov\n",
      "\n"
     ]
    }
   ],
   "source": [
    "pattern = re.compile(r'https?://(www\\.)?(\\w+)(\\.\\w+)')      \n",
    "subbed_urls=pattern.sub(r'\\2\\3',urls)\n",
    "print(subbed_urls)\n",
    "        "
   ]
  },
  {
   "cell_type": "code",
   "execution_count": 110,
   "id": "f62c04fa",
   "metadata": {},
   "outputs": [
    {
     "data": {
      "text/plain": [
       "'\\nhttps://www.google.com\\nhttp://coreyms.com\\nhttps://youtube.com\\nhttps://www.nasa.gov\\n'"
      ]
     },
     "execution_count": 110,
     "metadata": {},
     "output_type": "execute_result"
    }
   ],
   "source": []
  },
  {
   "cell_type": "code",
   "execution_count": 111,
   "id": "0fb72624",
   "metadata": {},
   "outputs": [
    {
     "name": "stdout",
     "output_type": "stream",
     "text": [
      "Mr\n",
      "Mr\n",
      "Ms\n",
      "Mrs\n",
      "Mr\n"
     ]
    }
   ],
   "source": [
    "pattern=re.compile(r'(Mr|Ms|Mrs)\\.?\\s[A-Z]\\w*')     #  ? means 0 or 1 .\n",
    "matches=pattern.findall(text_to_Search)\n",
    "for match in matches:\n",
    "    print(match)"
   ]
  },
  {
   "cell_type": "code",
   "execution_count": 112,
   "id": "3b0d0b40",
   "metadata": {},
   "outputs": [
    {
     "name": "stdout",
     "output_type": "stream",
     "text": [
      "321-555-4321\n",
      "900-555-4321\n",
      "800-555-4321\n",
      "123.555.1234\n",
      "123*555*1234\n"
     ]
    }
   ],
   "source": [
    "pattern=re.compile(r'\\d{3}.\\d{3}.\\d{4}')      # {} the no of times we wanna repeat the character\n",
    "matches=pattern.findall(text_to_Search)\n",
    "for match in matches:\n",
    "    print(match)"
   ]
  },
  {
   "cell_type": "code",
   "execution_count": 115,
   "id": "a8c3b2f1",
   "metadata": {},
   "outputs": [
    {
     "name": "stdout",
     "output_type": "stream",
     "text": [
      "<re.Match object; span=(0, 5), match='Start'>\n"
     ]
    }
   ],
   "source": [
    "pattern=re.compile(r'Start')     \n",
    "matches=pattern.match(sentence)     # match method searches for the first pattern in the starting of given string\n",
    "print(matches)"
   ]
  },
  {
   "cell_type": "code",
   "execution_count": 117,
   "id": "ff4fde68",
   "metadata": {},
   "outputs": [
    {
     "name": "stdout",
     "output_type": "stream",
     "text": [
      "None\n"
     ]
    }
   ],
   "source": [
    "pattern=re.compile(r'sentence')     \n",
    "matches=pattern.match(sentence)\n",
    "print(matches)"
   ]
  },
  {
   "cell_type": "code",
   "execution_count": 119,
   "id": "5a56edfd",
   "metadata": {},
   "outputs": [
    {
     "name": "stdout",
     "output_type": "stream",
     "text": [
      "<re.Match object; span=(8, 16), match='sentence'>\n"
     ]
    }
   ],
   "source": [
    "pattern=re.compile(r'sentence')     \n",
    "matches=pattern.search(sentence)     #search method searches for the first pattern in the entire string\n",
    "print(matches)"
   ]
  },
  {
   "cell_type": "code",
   "execution_count": 120,
   "id": "6481c5f6",
   "metadata": {},
   "outputs": [
    {
     "name": "stdout",
     "output_type": "stream",
     "text": [
      "None\n"
     ]
    }
   ],
   "source": [
    "pattern=re.compile(r'fgf')     \n",
    "matches=pattern.search(sentence)     #search method searches for the first pattern in the entire string\n",
    "print(matches)"
   ]
  },
  {
   "cell_type": "code",
   "execution_count": 121,
   "id": "5f3d9d02",
   "metadata": {},
   "outputs": [
    {
     "name": "stdout",
     "output_type": "stream",
     "text": [
      "<re.Match object; span=(0, 5), match='Start'>\n"
     ]
    }
   ],
   "source": [
    "pattern=re.compile(r'start',re.IGNORECASE)   #IGNORECASE is a flag here     \n",
    "matches=pattern.search(sentence)     #search method searches for the first pattern in the entire string\n",
    "print(matches)"
   ]
  },
  {
   "cell_type": "code",
   "execution_count": null,
   "id": "1829dd7a",
   "metadata": {},
   "outputs": [],
   "source": []
  }
 ],
 "metadata": {
  "kernelspec": {
   "display_name": "Python 3 (ipykernel)",
   "language": "python",
   "name": "python3"
  },
  "language_info": {
   "codemirror_mode": {
    "name": "ipython",
    "version": 3
   },
   "file_extension": ".py",
   "mimetype": "text/x-python",
   "name": "python",
   "nbconvert_exporter": "python",
   "pygments_lexer": "ipython3",
   "version": "3.13.0"
  }
 },
 "nbformat": 4,
 "nbformat_minor": 5
}
